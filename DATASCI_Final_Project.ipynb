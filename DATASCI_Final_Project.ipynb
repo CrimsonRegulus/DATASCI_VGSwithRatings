{
  "nbformat": 4,
  "nbformat_minor": 0,
  "metadata": {
    "colab": {
      "name": "DATASCI_Final_Project.ipynb",
      "provenance": [],
      "collapsed_sections": []
    },
    "kernelspec": {
      "name": "python3",
      "display_name": "Python 3"
    },
    "language_info": {
      "name": "python"
    }
  },
  "cells": [
    {
      "cell_type": "markdown",
      "metadata": {
        "id": "wZn-kP1eDGhA"
      },
      "source": [
        "**Library Import**"
      ]
    },
    {
      "cell_type": "code",
      "metadata": {
        "colab": {
          "base_uri": "https://localhost:8080/"
        },
        "id": "huX__S_rC0hJ",
        "outputId": "4a974ca6-0494-4895-ee04-19107b8e2d40"
      },
      "source": [
        "import pandas as pd\n",
        "import matplotlib.pyplot as plt\n",
        "from scipy import stats\n",
        "import numpy as np\n",
        "import seaborn as sns\n",
        "import math\n",
        "from sklearn import linear_model\n",
        "import statsmodels.api as sm\n",
        "\n",
        "from google.colab import drive\n",
        "drive.mount('/content/drive/')"
      ],
      "execution_count": null,
      "outputs": [
        {
          "output_type": "stream",
          "text": [
            "/usr/local/lib/python3.7/dist-packages/statsmodels/tools/_testing.py:19: FutureWarning: pandas.util.testing is deprecated. Use the functions in the public API at pandas.testing instead.\n",
            "  import pandas.util.testing as tm\n"
          ],
          "name": "stderr"
        },
        {
          "output_type": "stream",
          "text": [
            "Drive already mounted at /content/drive/; to attempt to forcibly remount, call drive.mount(\"/content/drive/\", force_remount=True).\n"
          ],
          "name": "stdout"
        }
      ]
    },
    {
      "cell_type": "code",
      "metadata": {
        "id": "Xwvb8vj5CEQu",
        "colab": {
          "base_uri": "https://localhost:8080/",
          "height": 295
        },
        "outputId": "f27943d3-061f-4402-b024-b05b64b64989"
      },
      "source": [
        "data = pd.read_csv(\"/content/drive/Shared drives/DATASCI (S11)/Final Project/VGS_data.csv\")\n",
        "data.head()"
      ],
      "execution_count": null,
      "outputs": [
        {
          "output_type": "execute_result",
          "data": {
            "text/html": [
              "<div>\n",
              "<style scoped>\n",
              "    .dataframe tbody tr th:only-of-type {\n",
              "        vertical-align: middle;\n",
              "    }\n",
              "\n",
              "    .dataframe tbody tr th {\n",
              "        vertical-align: top;\n",
              "    }\n",
              "\n",
              "    .dataframe thead th {\n",
              "        text-align: right;\n",
              "    }\n",
              "</style>\n",
              "<table border=\"1\" class=\"dataframe\">\n",
              "  <thead>\n",
              "    <tr style=\"text-align: right;\">\n",
              "      <th></th>\n",
              "      <th>Name</th>\n",
              "      <th>Platform</th>\n",
              "      <th>Year_of_Release</th>\n",
              "      <th>Genre</th>\n",
              "      <th>Publisher</th>\n",
              "      <th>NA_Sales</th>\n",
              "      <th>EU_Sales</th>\n",
              "      <th>JP_Sales</th>\n",
              "      <th>Other_Sales</th>\n",
              "      <th>Global_Sales</th>\n",
              "      <th>Critic_Score</th>\n",
              "      <th>Critic_Count</th>\n",
              "      <th>User_Score</th>\n",
              "      <th>User_Count</th>\n",
              "      <th>Developer</th>\n",
              "      <th>Rating</th>\n",
              "    </tr>\n",
              "  </thead>\n",
              "  <tbody>\n",
              "    <tr>\n",
              "      <th>0</th>\n",
              "      <td>Wii Sports</td>\n",
              "      <td>Wii</td>\n",
              "      <td>2006.0</td>\n",
              "      <td>Sports</td>\n",
              "      <td>Nintendo</td>\n",
              "      <td>41.36</td>\n",
              "      <td>28.96</td>\n",
              "      <td>3.77</td>\n",
              "      <td>8.45</td>\n",
              "      <td>82.53</td>\n",
              "      <td>76.0</td>\n",
              "      <td>51.0</td>\n",
              "      <td>8</td>\n",
              "      <td>322.0</td>\n",
              "      <td>Nintendo</td>\n",
              "      <td>E</td>\n",
              "    </tr>\n",
              "    <tr>\n",
              "      <th>1</th>\n",
              "      <td>Super Mario Bros.</td>\n",
              "      <td>NES</td>\n",
              "      <td>1985.0</td>\n",
              "      <td>Platform</td>\n",
              "      <td>Nintendo</td>\n",
              "      <td>29.08</td>\n",
              "      <td>3.58</td>\n",
              "      <td>6.81</td>\n",
              "      <td>0.77</td>\n",
              "      <td>40.24</td>\n",
              "      <td>NaN</td>\n",
              "      <td>NaN</td>\n",
              "      <td>NaN</td>\n",
              "      <td>NaN</td>\n",
              "      <td>NaN</td>\n",
              "      <td>NaN</td>\n",
              "    </tr>\n",
              "    <tr>\n",
              "      <th>2</th>\n",
              "      <td>Mario Kart Wii</td>\n",
              "      <td>Wii</td>\n",
              "      <td>2008.0</td>\n",
              "      <td>Racing</td>\n",
              "      <td>Nintendo</td>\n",
              "      <td>15.68</td>\n",
              "      <td>12.76</td>\n",
              "      <td>3.79</td>\n",
              "      <td>3.29</td>\n",
              "      <td>35.52</td>\n",
              "      <td>82.0</td>\n",
              "      <td>73.0</td>\n",
              "      <td>8.3</td>\n",
              "      <td>709.0</td>\n",
              "      <td>Nintendo</td>\n",
              "      <td>E</td>\n",
              "    </tr>\n",
              "    <tr>\n",
              "      <th>3</th>\n",
              "      <td>Wii Sports Resort</td>\n",
              "      <td>Wii</td>\n",
              "      <td>2009.0</td>\n",
              "      <td>Sports</td>\n",
              "      <td>Nintendo</td>\n",
              "      <td>15.61</td>\n",
              "      <td>10.93</td>\n",
              "      <td>3.28</td>\n",
              "      <td>2.95</td>\n",
              "      <td>32.77</td>\n",
              "      <td>80.0</td>\n",
              "      <td>73.0</td>\n",
              "      <td>8</td>\n",
              "      <td>192.0</td>\n",
              "      <td>Nintendo</td>\n",
              "      <td>E</td>\n",
              "    </tr>\n",
              "    <tr>\n",
              "      <th>4</th>\n",
              "      <td>Pokemon Red/Pokemon Blue</td>\n",
              "      <td>GB</td>\n",
              "      <td>1996.0</td>\n",
              "      <td>Role-Playing</td>\n",
              "      <td>Nintendo</td>\n",
              "      <td>11.27</td>\n",
              "      <td>8.89</td>\n",
              "      <td>10.22</td>\n",
              "      <td>1.00</td>\n",
              "      <td>31.37</td>\n",
              "      <td>NaN</td>\n",
              "      <td>NaN</td>\n",
              "      <td>NaN</td>\n",
              "      <td>NaN</td>\n",
              "      <td>NaN</td>\n",
              "      <td>NaN</td>\n",
              "    </tr>\n",
              "  </tbody>\n",
              "</table>\n",
              "</div>"
            ],
            "text/plain": [
              "                       Name Platform  ...  Developer Rating\n",
              "0                Wii Sports      Wii  ...   Nintendo      E\n",
              "1         Super Mario Bros.      NES  ...        NaN    NaN\n",
              "2            Mario Kart Wii      Wii  ...   Nintendo      E\n",
              "3         Wii Sports Resort      Wii  ...   Nintendo      E\n",
              "4  Pokemon Red/Pokemon Blue       GB  ...        NaN    NaN\n",
              "\n",
              "[5 rows x 16 columns]"
            ]
          },
          "metadata": {
            "tags": []
          },
          "execution_count": 2
        }
      ]
    },
    {
      "cell_type": "markdown",
      "metadata": {
        "id": "BRKzpSOPF_cw"
      },
      "source": [
        "Potential Research Questions:\n",
        "1. How do the critic scores affect the sales? \n",
        "2. How does the number of platforms the publisher publishes on affect their sales? \n",
        "3. How does the number of titles the publisher publishes affect their sales?\n",
        "4. What is the best selling Platform in each Region?\n",
        "5. What is the best selling Genre in each Region?"
      ]
    },
    {
      "cell_type": "markdown",
      "metadata": {
        "id": "rl3RJiAuDQIE"
      },
      "source": [
        "**Main Code**"
      ]
    },
    {
      "cell_type": "markdown",
      "metadata": {
        "id": "Wth6O3uBj_TQ"
      },
      "source": [
        "# Data Cleaning"
      ]
    },
    {
      "cell_type": "code",
      "metadata": {
        "id": "YXPoU0VdDFWw",
        "colab": {
          "base_uri": "https://localhost:8080/",
          "height": 206
        },
        "outputId": "c215c7cc-8e86-4f93-a2fc-8861681afff4"
      },
      "source": [
        "data = data.drop(['Year_of_Release', 'Developer', 'Rating', 'User_Score', 'User_Count'], axis=1)\n",
        "data.head()"
      ],
      "execution_count": null,
      "outputs": [
        {
          "output_type": "execute_result",
          "data": {
            "text/html": [
              "<div>\n",
              "<style scoped>\n",
              "    .dataframe tbody tr th:only-of-type {\n",
              "        vertical-align: middle;\n",
              "    }\n",
              "\n",
              "    .dataframe tbody tr th {\n",
              "        vertical-align: top;\n",
              "    }\n",
              "\n",
              "    .dataframe thead th {\n",
              "        text-align: right;\n",
              "    }\n",
              "</style>\n",
              "<table border=\"1\" class=\"dataframe\">\n",
              "  <thead>\n",
              "    <tr style=\"text-align: right;\">\n",
              "      <th></th>\n",
              "      <th>Name</th>\n",
              "      <th>Platform</th>\n",
              "      <th>Genre</th>\n",
              "      <th>Publisher</th>\n",
              "      <th>NA_Sales</th>\n",
              "      <th>EU_Sales</th>\n",
              "      <th>JP_Sales</th>\n",
              "      <th>Other_Sales</th>\n",
              "      <th>Global_Sales</th>\n",
              "      <th>Critic_Score</th>\n",
              "      <th>Critic_Count</th>\n",
              "    </tr>\n",
              "  </thead>\n",
              "  <tbody>\n",
              "    <tr>\n",
              "      <th>0</th>\n",
              "      <td>Wii Sports</td>\n",
              "      <td>Wii</td>\n",
              "      <td>Sports</td>\n",
              "      <td>Nintendo</td>\n",
              "      <td>41.36</td>\n",
              "      <td>28.96</td>\n",
              "      <td>3.77</td>\n",
              "      <td>8.45</td>\n",
              "      <td>82.53</td>\n",
              "      <td>76.0</td>\n",
              "      <td>51.0</td>\n",
              "    </tr>\n",
              "    <tr>\n",
              "      <th>1</th>\n",
              "      <td>Super Mario Bros.</td>\n",
              "      <td>NES</td>\n",
              "      <td>Platform</td>\n",
              "      <td>Nintendo</td>\n",
              "      <td>29.08</td>\n",
              "      <td>3.58</td>\n",
              "      <td>6.81</td>\n",
              "      <td>0.77</td>\n",
              "      <td>40.24</td>\n",
              "      <td>NaN</td>\n",
              "      <td>NaN</td>\n",
              "    </tr>\n",
              "    <tr>\n",
              "      <th>2</th>\n",
              "      <td>Mario Kart Wii</td>\n",
              "      <td>Wii</td>\n",
              "      <td>Racing</td>\n",
              "      <td>Nintendo</td>\n",
              "      <td>15.68</td>\n",
              "      <td>12.76</td>\n",
              "      <td>3.79</td>\n",
              "      <td>3.29</td>\n",
              "      <td>35.52</td>\n",
              "      <td>82.0</td>\n",
              "      <td>73.0</td>\n",
              "    </tr>\n",
              "    <tr>\n",
              "      <th>3</th>\n",
              "      <td>Wii Sports Resort</td>\n",
              "      <td>Wii</td>\n",
              "      <td>Sports</td>\n",
              "      <td>Nintendo</td>\n",
              "      <td>15.61</td>\n",
              "      <td>10.93</td>\n",
              "      <td>3.28</td>\n",
              "      <td>2.95</td>\n",
              "      <td>32.77</td>\n",
              "      <td>80.0</td>\n",
              "      <td>73.0</td>\n",
              "    </tr>\n",
              "    <tr>\n",
              "      <th>4</th>\n",
              "      <td>Pokemon Red/Pokemon Blue</td>\n",
              "      <td>GB</td>\n",
              "      <td>Role-Playing</td>\n",
              "      <td>Nintendo</td>\n",
              "      <td>11.27</td>\n",
              "      <td>8.89</td>\n",
              "      <td>10.22</td>\n",
              "      <td>1.00</td>\n",
              "      <td>31.37</td>\n",
              "      <td>NaN</td>\n",
              "      <td>NaN</td>\n",
              "    </tr>\n",
              "  </tbody>\n",
              "</table>\n",
              "</div>"
            ],
            "text/plain": [
              "                       Name Platform  ... Critic_Score Critic_Count\n",
              "0                Wii Sports      Wii  ...         76.0         51.0\n",
              "1         Super Mario Bros.      NES  ...          NaN          NaN\n",
              "2            Mario Kart Wii      Wii  ...         82.0         73.0\n",
              "3         Wii Sports Resort      Wii  ...         80.0         73.0\n",
              "4  Pokemon Red/Pokemon Blue       GB  ...          NaN          NaN\n",
              "\n",
              "[5 rows x 11 columns]"
            ]
          },
          "metadata": {
            "tags": []
          },
          "execution_count": 3
        }
      ]
    },
    {
      "cell_type": "code",
      "metadata": {
        "colab": {
          "base_uri": "https://localhost:8080/"
        },
        "id": "kdQU_RfZVqw3",
        "outputId": "f9381dda-bc19-4c88-daf4-c9fa0a7c9596"
      },
      "source": [
        "data['Platform'].unique()"
      ],
      "execution_count": null,
      "outputs": [
        {
          "output_type": "execute_result",
          "data": {
            "text/plain": [
              "array(['Wii', 'NES', 'GB', 'DS', 'X360', 'PS3', 'PS2', 'SNES', 'GBA',\n",
              "       'PS4', '3DS', 'N64', 'PS', 'XB', 'PC', '2600', 'PSP', 'XOne',\n",
              "       'WiiU', 'GC', 'GEN', 'DC', 'PSV', 'SAT', 'SCD', 'WS', 'NG', 'TG16',\n",
              "       '3DO', 'GG', 'PCFX'], dtype=object)"
            ]
          },
          "metadata": {
            "tags": []
          },
          "execution_count": 4
        }
      ]
    },
    {
      "cell_type": "code",
      "metadata": {
        "colab": {
          "base_uri": "https://localhost:8080/",
          "height": 206
        },
        "id": "zbBS0ihYJqDn",
        "outputId": "add9bbad-12b9-4c5b-f696-e35e8b2ed13b"
      },
      "source": [
        "data = data.fillna(data.mean())\n",
        "data.head()"
      ],
      "execution_count": null,
      "outputs": [
        {
          "output_type": "execute_result",
          "data": {
            "text/html": [
              "<div>\n",
              "<style scoped>\n",
              "    .dataframe tbody tr th:only-of-type {\n",
              "        vertical-align: middle;\n",
              "    }\n",
              "\n",
              "    .dataframe tbody tr th {\n",
              "        vertical-align: top;\n",
              "    }\n",
              "\n",
              "    .dataframe thead th {\n",
              "        text-align: right;\n",
              "    }\n",
              "</style>\n",
              "<table border=\"1\" class=\"dataframe\">\n",
              "  <thead>\n",
              "    <tr style=\"text-align: right;\">\n",
              "      <th></th>\n",
              "      <th>Name</th>\n",
              "      <th>Platform</th>\n",
              "      <th>Genre</th>\n",
              "      <th>Publisher</th>\n",
              "      <th>NA_Sales</th>\n",
              "      <th>EU_Sales</th>\n",
              "      <th>JP_Sales</th>\n",
              "      <th>Other_Sales</th>\n",
              "      <th>Global_Sales</th>\n",
              "      <th>Critic_Score</th>\n",
              "      <th>Critic_Count</th>\n",
              "    </tr>\n",
              "  </thead>\n",
              "  <tbody>\n",
              "    <tr>\n",
              "      <th>0</th>\n",
              "      <td>Wii Sports</td>\n",
              "      <td>Wii</td>\n",
              "      <td>Sports</td>\n",
              "      <td>Nintendo</td>\n",
              "      <td>41.36</td>\n",
              "      <td>28.96</td>\n",
              "      <td>3.77</td>\n",
              "      <td>8.45</td>\n",
              "      <td>82.53</td>\n",
              "      <td>76.000000</td>\n",
              "      <td>51.000000</td>\n",
              "    </tr>\n",
              "    <tr>\n",
              "      <th>1</th>\n",
              "      <td>Super Mario Bros.</td>\n",
              "      <td>NES</td>\n",
              "      <td>Platform</td>\n",
              "      <td>Nintendo</td>\n",
              "      <td>29.08</td>\n",
              "      <td>3.58</td>\n",
              "      <td>6.81</td>\n",
              "      <td>0.77</td>\n",
              "      <td>40.24</td>\n",
              "      <td>68.967679</td>\n",
              "      <td>26.360821</td>\n",
              "    </tr>\n",
              "    <tr>\n",
              "      <th>2</th>\n",
              "      <td>Mario Kart Wii</td>\n",
              "      <td>Wii</td>\n",
              "      <td>Racing</td>\n",
              "      <td>Nintendo</td>\n",
              "      <td>15.68</td>\n",
              "      <td>12.76</td>\n",
              "      <td>3.79</td>\n",
              "      <td>3.29</td>\n",
              "      <td>35.52</td>\n",
              "      <td>82.000000</td>\n",
              "      <td>73.000000</td>\n",
              "    </tr>\n",
              "    <tr>\n",
              "      <th>3</th>\n",
              "      <td>Wii Sports Resort</td>\n",
              "      <td>Wii</td>\n",
              "      <td>Sports</td>\n",
              "      <td>Nintendo</td>\n",
              "      <td>15.61</td>\n",
              "      <td>10.93</td>\n",
              "      <td>3.28</td>\n",
              "      <td>2.95</td>\n",
              "      <td>32.77</td>\n",
              "      <td>80.000000</td>\n",
              "      <td>73.000000</td>\n",
              "    </tr>\n",
              "    <tr>\n",
              "      <th>4</th>\n",
              "      <td>Pokemon Red/Pokemon Blue</td>\n",
              "      <td>GB</td>\n",
              "      <td>Role-Playing</td>\n",
              "      <td>Nintendo</td>\n",
              "      <td>11.27</td>\n",
              "      <td>8.89</td>\n",
              "      <td>10.22</td>\n",
              "      <td>1.00</td>\n",
              "      <td>31.37</td>\n",
              "      <td>68.967679</td>\n",
              "      <td>26.360821</td>\n",
              "    </tr>\n",
              "  </tbody>\n",
              "</table>\n",
              "</div>"
            ],
            "text/plain": [
              "                       Name Platform  ... Critic_Score Critic_Count\n",
              "0                Wii Sports      Wii  ...    76.000000    51.000000\n",
              "1         Super Mario Bros.      NES  ...    68.967679    26.360821\n",
              "2            Mario Kart Wii      Wii  ...    82.000000    73.000000\n",
              "3         Wii Sports Resort      Wii  ...    80.000000    73.000000\n",
              "4  Pokemon Red/Pokemon Blue       GB  ...    68.967679    26.360821\n",
              "\n",
              "[5 rows x 11 columns]"
            ]
          },
          "metadata": {
            "tags": []
          },
          "execution_count": 5
        }
      ]
    },
    {
      "cell_type": "code",
      "metadata": {
        "colab": {
          "base_uri": "https://localhost:8080/",
          "height": 206
        },
        "id": "hT0JQOtjPHQu",
        "outputId": "bdbcbb13-9f8b-4a6d-8d73-5d513bd13e79"
      },
      "source": [
        "data['Critic_Count'] = data['Critic_Count'].round(decimals=0)\n",
        "data.head()"
      ],
      "execution_count": null,
      "outputs": [
        {
          "output_type": "execute_result",
          "data": {
            "text/html": [
              "<div>\n",
              "<style scoped>\n",
              "    .dataframe tbody tr th:only-of-type {\n",
              "        vertical-align: middle;\n",
              "    }\n",
              "\n",
              "    .dataframe tbody tr th {\n",
              "        vertical-align: top;\n",
              "    }\n",
              "\n",
              "    .dataframe thead th {\n",
              "        text-align: right;\n",
              "    }\n",
              "</style>\n",
              "<table border=\"1\" class=\"dataframe\">\n",
              "  <thead>\n",
              "    <tr style=\"text-align: right;\">\n",
              "      <th></th>\n",
              "      <th>Name</th>\n",
              "      <th>Platform</th>\n",
              "      <th>Genre</th>\n",
              "      <th>Publisher</th>\n",
              "      <th>NA_Sales</th>\n",
              "      <th>EU_Sales</th>\n",
              "      <th>JP_Sales</th>\n",
              "      <th>Other_Sales</th>\n",
              "      <th>Global_Sales</th>\n",
              "      <th>Critic_Score</th>\n",
              "      <th>Critic_Count</th>\n",
              "    </tr>\n",
              "  </thead>\n",
              "  <tbody>\n",
              "    <tr>\n",
              "      <th>0</th>\n",
              "      <td>Wii Sports</td>\n",
              "      <td>Wii</td>\n",
              "      <td>Sports</td>\n",
              "      <td>Nintendo</td>\n",
              "      <td>41.36</td>\n",
              "      <td>28.96</td>\n",
              "      <td>3.77</td>\n",
              "      <td>8.45</td>\n",
              "      <td>82.53</td>\n",
              "      <td>76.000000</td>\n",
              "      <td>51.0</td>\n",
              "    </tr>\n",
              "    <tr>\n",
              "      <th>1</th>\n",
              "      <td>Super Mario Bros.</td>\n",
              "      <td>NES</td>\n",
              "      <td>Platform</td>\n",
              "      <td>Nintendo</td>\n",
              "      <td>29.08</td>\n",
              "      <td>3.58</td>\n",
              "      <td>6.81</td>\n",
              "      <td>0.77</td>\n",
              "      <td>40.24</td>\n",
              "      <td>68.967679</td>\n",
              "      <td>26.0</td>\n",
              "    </tr>\n",
              "    <tr>\n",
              "      <th>2</th>\n",
              "      <td>Mario Kart Wii</td>\n",
              "      <td>Wii</td>\n",
              "      <td>Racing</td>\n",
              "      <td>Nintendo</td>\n",
              "      <td>15.68</td>\n",
              "      <td>12.76</td>\n",
              "      <td>3.79</td>\n",
              "      <td>3.29</td>\n",
              "      <td>35.52</td>\n",
              "      <td>82.000000</td>\n",
              "      <td>73.0</td>\n",
              "    </tr>\n",
              "    <tr>\n",
              "      <th>3</th>\n",
              "      <td>Wii Sports Resort</td>\n",
              "      <td>Wii</td>\n",
              "      <td>Sports</td>\n",
              "      <td>Nintendo</td>\n",
              "      <td>15.61</td>\n",
              "      <td>10.93</td>\n",
              "      <td>3.28</td>\n",
              "      <td>2.95</td>\n",
              "      <td>32.77</td>\n",
              "      <td>80.000000</td>\n",
              "      <td>73.0</td>\n",
              "    </tr>\n",
              "    <tr>\n",
              "      <th>4</th>\n",
              "      <td>Pokemon Red/Pokemon Blue</td>\n",
              "      <td>GB</td>\n",
              "      <td>Role-Playing</td>\n",
              "      <td>Nintendo</td>\n",
              "      <td>11.27</td>\n",
              "      <td>8.89</td>\n",
              "      <td>10.22</td>\n",
              "      <td>1.00</td>\n",
              "      <td>31.37</td>\n",
              "      <td>68.967679</td>\n",
              "      <td>26.0</td>\n",
              "    </tr>\n",
              "  </tbody>\n",
              "</table>\n",
              "</div>"
            ],
            "text/plain": [
              "                       Name Platform  ... Critic_Score Critic_Count\n",
              "0                Wii Sports      Wii  ...    76.000000         51.0\n",
              "1         Super Mario Bros.      NES  ...    68.967679         26.0\n",
              "2            Mario Kart Wii      Wii  ...    82.000000         73.0\n",
              "3         Wii Sports Resort      Wii  ...    80.000000         73.0\n",
              "4  Pokemon Red/Pokemon Blue       GB  ...    68.967679         26.0\n",
              "\n",
              "[5 rows x 11 columns]"
            ]
          },
          "metadata": {
            "tags": []
          },
          "execution_count": 6
        }
      ]
    },
    {
      "cell_type": "markdown",
      "metadata": {
        "id": "uizFKn80CEqW"
      },
      "source": [
        "# Check data"
      ]
    },
    {
      "cell_type": "code",
      "metadata": {
        "colab": {
          "base_uri": "https://localhost:8080/",
          "height": 206
        },
        "id": "xdNz5iKAdEwr",
        "outputId": "97a41f51-ba91-4c26-efab-09de66ad0f0f"
      },
      "source": [
        "df_check = data\n",
        "df_check.head()"
      ],
      "execution_count": null,
      "outputs": [
        {
          "output_type": "execute_result",
          "data": {
            "text/html": [
              "<div>\n",
              "<style scoped>\n",
              "    .dataframe tbody tr th:only-of-type {\n",
              "        vertical-align: middle;\n",
              "    }\n",
              "\n",
              "    .dataframe tbody tr th {\n",
              "        vertical-align: top;\n",
              "    }\n",
              "\n",
              "    .dataframe thead th {\n",
              "        text-align: right;\n",
              "    }\n",
              "</style>\n",
              "<table border=\"1\" class=\"dataframe\">\n",
              "  <thead>\n",
              "    <tr style=\"text-align: right;\">\n",
              "      <th></th>\n",
              "      <th>Name</th>\n",
              "      <th>Platform</th>\n",
              "      <th>Genre</th>\n",
              "      <th>Publisher</th>\n",
              "      <th>NA_Sales</th>\n",
              "      <th>EU_Sales</th>\n",
              "      <th>JP_Sales</th>\n",
              "      <th>Other_Sales</th>\n",
              "      <th>Global_Sales</th>\n",
              "      <th>Critic_Score</th>\n",
              "      <th>Critic_Count</th>\n",
              "    </tr>\n",
              "  </thead>\n",
              "  <tbody>\n",
              "    <tr>\n",
              "      <th>0</th>\n",
              "      <td>Wii Sports</td>\n",
              "      <td>Wii</td>\n",
              "      <td>Sports</td>\n",
              "      <td>Nintendo</td>\n",
              "      <td>41.36</td>\n",
              "      <td>28.96</td>\n",
              "      <td>3.77</td>\n",
              "      <td>8.45</td>\n",
              "      <td>82.53</td>\n",
              "      <td>76.000000</td>\n",
              "      <td>51.0</td>\n",
              "    </tr>\n",
              "    <tr>\n",
              "      <th>1</th>\n",
              "      <td>Super Mario Bros.</td>\n",
              "      <td>NES</td>\n",
              "      <td>Platform</td>\n",
              "      <td>Nintendo</td>\n",
              "      <td>29.08</td>\n",
              "      <td>3.58</td>\n",
              "      <td>6.81</td>\n",
              "      <td>0.77</td>\n",
              "      <td>40.24</td>\n",
              "      <td>68.967679</td>\n",
              "      <td>26.0</td>\n",
              "    </tr>\n",
              "    <tr>\n",
              "      <th>2</th>\n",
              "      <td>Mario Kart Wii</td>\n",
              "      <td>Wii</td>\n",
              "      <td>Racing</td>\n",
              "      <td>Nintendo</td>\n",
              "      <td>15.68</td>\n",
              "      <td>12.76</td>\n",
              "      <td>3.79</td>\n",
              "      <td>3.29</td>\n",
              "      <td>35.52</td>\n",
              "      <td>82.000000</td>\n",
              "      <td>73.0</td>\n",
              "    </tr>\n",
              "    <tr>\n",
              "      <th>3</th>\n",
              "      <td>Wii Sports Resort</td>\n",
              "      <td>Wii</td>\n",
              "      <td>Sports</td>\n",
              "      <td>Nintendo</td>\n",
              "      <td>15.61</td>\n",
              "      <td>10.93</td>\n",
              "      <td>3.28</td>\n",
              "      <td>2.95</td>\n",
              "      <td>32.77</td>\n",
              "      <td>80.000000</td>\n",
              "      <td>73.0</td>\n",
              "    </tr>\n",
              "    <tr>\n",
              "      <th>4</th>\n",
              "      <td>Pokemon Red/Pokemon Blue</td>\n",
              "      <td>GB</td>\n",
              "      <td>Role-Playing</td>\n",
              "      <td>Nintendo</td>\n",
              "      <td>11.27</td>\n",
              "      <td>8.89</td>\n",
              "      <td>10.22</td>\n",
              "      <td>1.00</td>\n",
              "      <td>31.37</td>\n",
              "      <td>68.967679</td>\n",
              "      <td>26.0</td>\n",
              "    </tr>\n",
              "  </tbody>\n",
              "</table>\n",
              "</div>"
            ],
            "text/plain": [
              "                       Name Platform  ... Critic_Score Critic_Count\n",
              "0                Wii Sports      Wii  ...    76.000000         51.0\n",
              "1         Super Mario Bros.      NES  ...    68.967679         26.0\n",
              "2            Mario Kart Wii      Wii  ...    82.000000         73.0\n",
              "3         Wii Sports Resort      Wii  ...    80.000000         73.0\n",
              "4  Pokemon Red/Pokemon Blue       GB  ...    68.967679         26.0\n",
              "\n",
              "[5 rows x 11 columns]"
            ]
          },
          "metadata": {
            "tags": []
          },
          "execution_count": 7
        }
      ]
    },
    {
      "cell_type": "code",
      "metadata": {
        "id": "cCZIfi5HeDVY",
        "colab": {
          "base_uri": "https://localhost:8080/",
          "height": 589
        },
        "outputId": "eade5a1f-1116-4d0e-a7ff-a0d0c1e75ee2"
      },
      "source": [
        "df_check1 = df_check.sort_values(by='Global_Sales', ascending=False)\n",
        "df_check1.head(15)"
      ],
      "execution_count": null,
      "outputs": [
        {
          "output_type": "execute_result",
          "data": {
            "text/html": [
              "<div>\n",
              "<style scoped>\n",
              "    .dataframe tbody tr th:only-of-type {\n",
              "        vertical-align: middle;\n",
              "    }\n",
              "\n",
              "    .dataframe tbody tr th {\n",
              "        vertical-align: top;\n",
              "    }\n",
              "\n",
              "    .dataframe thead th {\n",
              "        text-align: right;\n",
              "    }\n",
              "</style>\n",
              "<table border=\"1\" class=\"dataframe\">\n",
              "  <thead>\n",
              "    <tr style=\"text-align: right;\">\n",
              "      <th></th>\n",
              "      <th>Name</th>\n",
              "      <th>Platform</th>\n",
              "      <th>Genre</th>\n",
              "      <th>Publisher</th>\n",
              "      <th>NA_Sales</th>\n",
              "      <th>EU_Sales</th>\n",
              "      <th>JP_Sales</th>\n",
              "      <th>Other_Sales</th>\n",
              "      <th>Global_Sales</th>\n",
              "      <th>Critic_Score</th>\n",
              "      <th>Critic_Count</th>\n",
              "    </tr>\n",
              "  </thead>\n",
              "  <tbody>\n",
              "    <tr>\n",
              "      <th>0</th>\n",
              "      <td>Wii Sports</td>\n",
              "      <td>Wii</td>\n",
              "      <td>Sports</td>\n",
              "      <td>Nintendo</td>\n",
              "      <td>41.36</td>\n",
              "      <td>28.96</td>\n",
              "      <td>3.77</td>\n",
              "      <td>8.45</td>\n",
              "      <td>82.53</td>\n",
              "      <td>76.000000</td>\n",
              "      <td>51.0</td>\n",
              "    </tr>\n",
              "    <tr>\n",
              "      <th>1</th>\n",
              "      <td>Super Mario Bros.</td>\n",
              "      <td>NES</td>\n",
              "      <td>Platform</td>\n",
              "      <td>Nintendo</td>\n",
              "      <td>29.08</td>\n",
              "      <td>3.58</td>\n",
              "      <td>6.81</td>\n",
              "      <td>0.77</td>\n",
              "      <td>40.24</td>\n",
              "      <td>68.967679</td>\n",
              "      <td>26.0</td>\n",
              "    </tr>\n",
              "    <tr>\n",
              "      <th>2</th>\n",
              "      <td>Mario Kart Wii</td>\n",
              "      <td>Wii</td>\n",
              "      <td>Racing</td>\n",
              "      <td>Nintendo</td>\n",
              "      <td>15.68</td>\n",
              "      <td>12.76</td>\n",
              "      <td>3.79</td>\n",
              "      <td>3.29</td>\n",
              "      <td>35.52</td>\n",
              "      <td>82.000000</td>\n",
              "      <td>73.0</td>\n",
              "    </tr>\n",
              "    <tr>\n",
              "      <th>3</th>\n",
              "      <td>Wii Sports Resort</td>\n",
              "      <td>Wii</td>\n",
              "      <td>Sports</td>\n",
              "      <td>Nintendo</td>\n",
              "      <td>15.61</td>\n",
              "      <td>10.93</td>\n",
              "      <td>3.28</td>\n",
              "      <td>2.95</td>\n",
              "      <td>32.77</td>\n",
              "      <td>80.000000</td>\n",
              "      <td>73.0</td>\n",
              "    </tr>\n",
              "    <tr>\n",
              "      <th>4</th>\n",
              "      <td>Pokemon Red/Pokemon Blue</td>\n",
              "      <td>GB</td>\n",
              "      <td>Role-Playing</td>\n",
              "      <td>Nintendo</td>\n",
              "      <td>11.27</td>\n",
              "      <td>8.89</td>\n",
              "      <td>10.22</td>\n",
              "      <td>1.00</td>\n",
              "      <td>31.37</td>\n",
              "      <td>68.967679</td>\n",
              "      <td>26.0</td>\n",
              "    </tr>\n",
              "    <tr>\n",
              "      <th>5</th>\n",
              "      <td>Tetris</td>\n",
              "      <td>GB</td>\n",
              "      <td>Puzzle</td>\n",
              "      <td>Nintendo</td>\n",
              "      <td>23.20</td>\n",
              "      <td>2.26</td>\n",
              "      <td>4.22</td>\n",
              "      <td>0.58</td>\n",
              "      <td>30.26</td>\n",
              "      <td>68.967679</td>\n",
              "      <td>26.0</td>\n",
              "    </tr>\n",
              "    <tr>\n",
              "      <th>6</th>\n",
              "      <td>New Super Mario Bros.</td>\n",
              "      <td>DS</td>\n",
              "      <td>Platform</td>\n",
              "      <td>Nintendo</td>\n",
              "      <td>11.28</td>\n",
              "      <td>9.14</td>\n",
              "      <td>6.50</td>\n",
              "      <td>2.88</td>\n",
              "      <td>29.80</td>\n",
              "      <td>89.000000</td>\n",
              "      <td>65.0</td>\n",
              "    </tr>\n",
              "    <tr>\n",
              "      <th>7</th>\n",
              "      <td>Wii Play</td>\n",
              "      <td>Wii</td>\n",
              "      <td>Misc</td>\n",
              "      <td>Nintendo</td>\n",
              "      <td>13.96</td>\n",
              "      <td>9.18</td>\n",
              "      <td>2.93</td>\n",
              "      <td>2.84</td>\n",
              "      <td>28.92</td>\n",
              "      <td>58.000000</td>\n",
              "      <td>41.0</td>\n",
              "    </tr>\n",
              "    <tr>\n",
              "      <th>8</th>\n",
              "      <td>New Super Mario Bros. Wii</td>\n",
              "      <td>Wii</td>\n",
              "      <td>Platform</td>\n",
              "      <td>Nintendo</td>\n",
              "      <td>14.44</td>\n",
              "      <td>6.94</td>\n",
              "      <td>4.70</td>\n",
              "      <td>2.24</td>\n",
              "      <td>28.32</td>\n",
              "      <td>87.000000</td>\n",
              "      <td>80.0</td>\n",
              "    </tr>\n",
              "    <tr>\n",
              "      <th>9</th>\n",
              "      <td>Duck Hunt</td>\n",
              "      <td>NES</td>\n",
              "      <td>Shooter</td>\n",
              "      <td>Nintendo</td>\n",
              "      <td>26.93</td>\n",
              "      <td>0.63</td>\n",
              "      <td>0.28</td>\n",
              "      <td>0.47</td>\n",
              "      <td>28.31</td>\n",
              "      <td>68.967679</td>\n",
              "      <td>26.0</td>\n",
              "    </tr>\n",
              "    <tr>\n",
              "      <th>10</th>\n",
              "      <td>Nintendogs</td>\n",
              "      <td>DS</td>\n",
              "      <td>Simulation</td>\n",
              "      <td>Nintendo</td>\n",
              "      <td>9.05</td>\n",
              "      <td>10.95</td>\n",
              "      <td>1.93</td>\n",
              "      <td>2.74</td>\n",
              "      <td>24.67</td>\n",
              "      <td>68.967679</td>\n",
              "      <td>26.0</td>\n",
              "    </tr>\n",
              "    <tr>\n",
              "      <th>11</th>\n",
              "      <td>Mario Kart DS</td>\n",
              "      <td>DS</td>\n",
              "      <td>Racing</td>\n",
              "      <td>Nintendo</td>\n",
              "      <td>9.71</td>\n",
              "      <td>7.47</td>\n",
              "      <td>4.13</td>\n",
              "      <td>1.90</td>\n",
              "      <td>23.21</td>\n",
              "      <td>91.000000</td>\n",
              "      <td>64.0</td>\n",
              "    </tr>\n",
              "    <tr>\n",
              "      <th>12</th>\n",
              "      <td>Pokemon Gold/Pokemon Silver</td>\n",
              "      <td>GB</td>\n",
              "      <td>Role-Playing</td>\n",
              "      <td>Nintendo</td>\n",
              "      <td>9.00</td>\n",
              "      <td>6.18</td>\n",
              "      <td>7.20</td>\n",
              "      <td>0.71</td>\n",
              "      <td>23.10</td>\n",
              "      <td>68.967679</td>\n",
              "      <td>26.0</td>\n",
              "    </tr>\n",
              "    <tr>\n",
              "      <th>13</th>\n",
              "      <td>Wii Fit</td>\n",
              "      <td>Wii</td>\n",
              "      <td>Sports</td>\n",
              "      <td>Nintendo</td>\n",
              "      <td>8.92</td>\n",
              "      <td>8.03</td>\n",
              "      <td>3.60</td>\n",
              "      <td>2.15</td>\n",
              "      <td>22.70</td>\n",
              "      <td>80.000000</td>\n",
              "      <td>63.0</td>\n",
              "    </tr>\n",
              "    <tr>\n",
              "      <th>14</th>\n",
              "      <td>Kinect Adventures!</td>\n",
              "      <td>X360</td>\n",
              "      <td>Misc</td>\n",
              "      <td>Microsoft Game Studios</td>\n",
              "      <td>15.00</td>\n",
              "      <td>4.89</td>\n",
              "      <td>0.24</td>\n",
              "      <td>1.69</td>\n",
              "      <td>21.81</td>\n",
              "      <td>61.000000</td>\n",
              "      <td>45.0</td>\n",
              "    </tr>\n",
              "  </tbody>\n",
              "</table>\n",
              "</div>"
            ],
            "text/plain": [
              "                           Name Platform  ... Critic_Score Critic_Count\n",
              "0                    Wii Sports      Wii  ...    76.000000         51.0\n",
              "1             Super Mario Bros.      NES  ...    68.967679         26.0\n",
              "2                Mario Kart Wii      Wii  ...    82.000000         73.0\n",
              "3             Wii Sports Resort      Wii  ...    80.000000         73.0\n",
              "4      Pokemon Red/Pokemon Blue       GB  ...    68.967679         26.0\n",
              "5                        Tetris       GB  ...    68.967679         26.0\n",
              "6         New Super Mario Bros.       DS  ...    89.000000         65.0\n",
              "7                      Wii Play      Wii  ...    58.000000         41.0\n",
              "8     New Super Mario Bros. Wii      Wii  ...    87.000000         80.0\n",
              "9                     Duck Hunt      NES  ...    68.967679         26.0\n",
              "10                   Nintendogs       DS  ...    68.967679         26.0\n",
              "11                Mario Kart DS       DS  ...    91.000000         64.0\n",
              "12  Pokemon Gold/Pokemon Silver       GB  ...    68.967679         26.0\n",
              "13                      Wii Fit      Wii  ...    80.000000         63.0\n",
              "14           Kinect Adventures!     X360  ...    61.000000         45.0\n",
              "\n",
              "[15 rows x 11 columns]"
            ]
          },
          "metadata": {
            "tags": []
          },
          "execution_count": 8
        }
      ]
    },
    {
      "cell_type": "code",
      "metadata": {
        "id": "cao-h8-wel6T",
        "colab": {
          "base_uri": "https://localhost:8080/",
          "height": 571
        },
        "outputId": "9a3efd2a-cc79-4cb9-de5d-0a84c4a4347d"
      },
      "source": [
        "df_check2 = df_check.sort_values(by='Critic_Score', ascending=False)\n",
        "df_check2.head(15)"
      ],
      "execution_count": null,
      "outputs": [
        {
          "output_type": "execute_result",
          "data": {
            "text/html": [
              "<div>\n",
              "<style scoped>\n",
              "    .dataframe tbody tr th:only-of-type {\n",
              "        vertical-align: middle;\n",
              "    }\n",
              "\n",
              "    .dataframe tbody tr th {\n",
              "        vertical-align: top;\n",
              "    }\n",
              "\n",
              "    .dataframe thead th {\n",
              "        text-align: right;\n",
              "    }\n",
              "</style>\n",
              "<table border=\"1\" class=\"dataframe\">\n",
              "  <thead>\n",
              "    <tr style=\"text-align: right;\">\n",
              "      <th></th>\n",
              "      <th>Name</th>\n",
              "      <th>Platform</th>\n",
              "      <th>Genre</th>\n",
              "      <th>Publisher</th>\n",
              "      <th>NA_Sales</th>\n",
              "      <th>EU_Sales</th>\n",
              "      <th>JP_Sales</th>\n",
              "      <th>Other_Sales</th>\n",
              "      <th>Global_Sales</th>\n",
              "      <th>Critic_Score</th>\n",
              "      <th>Critic_Count</th>\n",
              "    </tr>\n",
              "  </thead>\n",
              "  <tbody>\n",
              "    <tr>\n",
              "      <th>51</th>\n",
              "      <td>Grand Theft Auto IV</td>\n",
              "      <td>X360</td>\n",
              "      <td>Action</td>\n",
              "      <td>Take-Two Interactive</td>\n",
              "      <td>6.76</td>\n",
              "      <td>3.07</td>\n",
              "      <td>0.14</td>\n",
              "      <td>1.03</td>\n",
              "      <td>11.01</td>\n",
              "      <td>98.0</td>\n",
              "      <td>86.0</td>\n",
              "    </tr>\n",
              "    <tr>\n",
              "      <th>5350</th>\n",
              "      <td>SoulCalibur</td>\n",
              "      <td>DC</td>\n",
              "      <td>Fighting</td>\n",
              "      <td>Namco Bandai Games</td>\n",
              "      <td>0.00</td>\n",
              "      <td>0.00</td>\n",
              "      <td>0.34</td>\n",
              "      <td>0.00</td>\n",
              "      <td>0.34</td>\n",
              "      <td>98.0</td>\n",
              "      <td>24.0</td>\n",
              "    </tr>\n",
              "    <tr>\n",
              "      <th>57</th>\n",
              "      <td>Grand Theft Auto IV</td>\n",
              "      <td>PS3</td>\n",
              "      <td>Action</td>\n",
              "      <td>Take-Two Interactive</td>\n",
              "      <td>4.76</td>\n",
              "      <td>3.69</td>\n",
              "      <td>0.44</td>\n",
              "      <td>1.61</td>\n",
              "      <td>10.50</td>\n",
              "      <td>98.0</td>\n",
              "      <td>64.0</td>\n",
              "    </tr>\n",
              "    <tr>\n",
              "      <th>227</th>\n",
              "      <td>Tony Hawk's Pro Skater 2</td>\n",
              "      <td>PS</td>\n",
              "      <td>Sports</td>\n",
              "      <td>Activision</td>\n",
              "      <td>3.05</td>\n",
              "      <td>1.41</td>\n",
              "      <td>0.02</td>\n",
              "      <td>0.20</td>\n",
              "      <td>4.68</td>\n",
              "      <td>98.0</td>\n",
              "      <td>19.0</td>\n",
              "    </tr>\n",
              "    <tr>\n",
              "      <th>16</th>\n",
              "      <td>Grand Theft Auto V</td>\n",
              "      <td>PS3</td>\n",
              "      <td>Action</td>\n",
              "      <td>Take-Two Interactive</td>\n",
              "      <td>7.02</td>\n",
              "      <td>9.09</td>\n",
              "      <td>0.98</td>\n",
              "      <td>3.96</td>\n",
              "      <td>21.04</td>\n",
              "      <td>97.0</td>\n",
              "      <td>50.0</td>\n",
              "    </tr>\n",
              "    <tr>\n",
              "      <th>97</th>\n",
              "      <td>Super Mario Galaxy 2</td>\n",
              "      <td>Wii</td>\n",
              "      <td>Platform</td>\n",
              "      <td>Nintendo</td>\n",
              "      <td>3.56</td>\n",
              "      <td>2.35</td>\n",
              "      <td>0.98</td>\n",
              "      <td>0.62</td>\n",
              "      <td>7.51</td>\n",
              "      <td>97.0</td>\n",
              "      <td>87.0</td>\n",
              "    </tr>\n",
              "    <tr>\n",
              "      <th>517</th>\n",
              "      <td>Metroid Prime</td>\n",
              "      <td>GC</td>\n",
              "      <td>Shooter</td>\n",
              "      <td>Nintendo</td>\n",
              "      <td>1.96</td>\n",
              "      <td>0.67</td>\n",
              "      <td>0.10</td>\n",
              "      <td>0.09</td>\n",
              "      <td>2.82</td>\n",
              "      <td>97.0</td>\n",
              "      <td>70.0</td>\n",
              "    </tr>\n",
              "    <tr>\n",
              "      <th>129</th>\n",
              "      <td>Halo: Combat Evolved</td>\n",
              "      <td>XB</td>\n",
              "      <td>Shooter</td>\n",
              "      <td>Microsoft Game Studios</td>\n",
              "      <td>4.98</td>\n",
              "      <td>1.30</td>\n",
              "      <td>0.08</td>\n",
              "      <td>0.07</td>\n",
              "      <td>6.43</td>\n",
              "      <td>97.0</td>\n",
              "      <td>68.0</td>\n",
              "    </tr>\n",
              "    <tr>\n",
              "      <th>249</th>\n",
              "      <td>Tony Hawk's Pro Skater 3</td>\n",
              "      <td>PS2</td>\n",
              "      <td>Sports</td>\n",
              "      <td>Activision</td>\n",
              "      <td>2.66</td>\n",
              "      <td>1.29</td>\n",
              "      <td>0.01</td>\n",
              "      <td>0.46</td>\n",
              "      <td>4.41</td>\n",
              "      <td>97.0</td>\n",
              "      <td>34.0</td>\n",
              "    </tr>\n",
              "    <tr>\n",
              "      <th>49</th>\n",
              "      <td>Super Mario Galaxy</td>\n",
              "      <td>Wii</td>\n",
              "      <td>Platform</td>\n",
              "      <td>Nintendo</td>\n",
              "      <td>6.06</td>\n",
              "      <td>3.35</td>\n",
              "      <td>1.20</td>\n",
              "      <td>0.74</td>\n",
              "      <td>11.35</td>\n",
              "      <td>97.0</td>\n",
              "      <td>73.0</td>\n",
              "    </tr>\n",
              "    <tr>\n",
              "      <th>42</th>\n",
              "      <td>Grand Theft Auto V</td>\n",
              "      <td>PS4</td>\n",
              "      <td>Action</td>\n",
              "      <td>Take-Two Interactive</td>\n",
              "      <td>3.96</td>\n",
              "      <td>6.31</td>\n",
              "      <td>0.38</td>\n",
              "      <td>1.97</td>\n",
              "      <td>12.61</td>\n",
              "      <td>97.0</td>\n",
              "      <td>66.0</td>\n",
              "    </tr>\n",
              "    <tr>\n",
              "      <th>38</th>\n",
              "      <td>Grand Theft Auto III</td>\n",
              "      <td>PS2</td>\n",
              "      <td>Action</td>\n",
              "      <td>Take-Two Interactive</td>\n",
              "      <td>6.99</td>\n",
              "      <td>4.51</td>\n",
              "      <td>0.30</td>\n",
              "      <td>1.30</td>\n",
              "      <td>13.10</td>\n",
              "      <td>97.0</td>\n",
              "      <td>56.0</td>\n",
              "    </tr>\n",
              "    <tr>\n",
              "      <th>23</th>\n",
              "      <td>Grand Theft Auto V</td>\n",
              "      <td>X360</td>\n",
              "      <td>Action</td>\n",
              "      <td>Take-Two Interactive</td>\n",
              "      <td>9.66</td>\n",
              "      <td>5.14</td>\n",
              "      <td>0.06</td>\n",
              "      <td>1.41</td>\n",
              "      <td>16.27</td>\n",
              "      <td>97.0</td>\n",
              "      <td>58.0</td>\n",
              "    </tr>\n",
              "    <tr>\n",
              "      <th>1877</th>\n",
              "      <td>NFL 2K1</td>\n",
              "      <td>DC</td>\n",
              "      <td>Sports</td>\n",
              "      <td>Sega</td>\n",
              "      <td>1.02</td>\n",
              "      <td>0.05</td>\n",
              "      <td>0.00</td>\n",
              "      <td>0.02</td>\n",
              "      <td>1.09</td>\n",
              "      <td>97.0</td>\n",
              "      <td>22.0</td>\n",
              "    </tr>\n",
              "    <tr>\n",
              "      <th>165</th>\n",
              "      <td>Grand Theft Auto V</td>\n",
              "      <td>XOne</td>\n",
              "      <td>Action</td>\n",
              "      <td>Take-Two Interactive</td>\n",
              "      <td>2.81</td>\n",
              "      <td>2.19</td>\n",
              "      <td>0.00</td>\n",
              "      <td>0.47</td>\n",
              "      <td>5.48</td>\n",
              "      <td>97.0</td>\n",
              "      <td>14.0</td>\n",
              "    </tr>\n",
              "  </tbody>\n",
              "</table>\n",
              "</div>"
            ],
            "text/plain": [
              "                          Name Platform  ... Critic_Score Critic_Count\n",
              "51         Grand Theft Auto IV     X360  ...         98.0         86.0\n",
              "5350               SoulCalibur       DC  ...         98.0         24.0\n",
              "57         Grand Theft Auto IV      PS3  ...         98.0         64.0\n",
              "227   Tony Hawk's Pro Skater 2       PS  ...         98.0         19.0\n",
              "16          Grand Theft Auto V      PS3  ...         97.0         50.0\n",
              "97        Super Mario Galaxy 2      Wii  ...         97.0         87.0\n",
              "517              Metroid Prime       GC  ...         97.0         70.0\n",
              "129       Halo: Combat Evolved       XB  ...         97.0         68.0\n",
              "249   Tony Hawk's Pro Skater 3      PS2  ...         97.0         34.0\n",
              "49          Super Mario Galaxy      Wii  ...         97.0         73.0\n",
              "42          Grand Theft Auto V      PS4  ...         97.0         66.0\n",
              "38        Grand Theft Auto III      PS2  ...         97.0         56.0\n",
              "23          Grand Theft Auto V     X360  ...         97.0         58.0\n",
              "1877                   NFL 2K1       DC  ...         97.0         22.0\n",
              "165         Grand Theft Auto V     XOne  ...         97.0         14.0\n",
              "\n",
              "[15 rows x 11 columns]"
            ]
          },
          "metadata": {
            "tags": []
          },
          "execution_count": 9
        }
      ]
    },
    {
      "cell_type": "markdown",
      "metadata": {
        "id": "2wGms8JZklt3"
      },
      "source": [
        "# How do the critic scores affect the sales?"
      ]
    },
    {
      "cell_type": "code",
      "metadata": {
        "id": "wP-YtOO4LiAB",
        "colab": {
          "base_uri": "https://localhost:8080/",
          "height": 798
        },
        "outputId": "afa85472-1a1c-41c3-c164-0cac748ef93b"
      },
      "source": [
        "# Plot the two variable that intuitively should have an obvious correlation\n",
        "fig = plt.figure(figsize=(30, 20))\n",
        "ax = fig.add_subplot(111)\n",
        "\n",
        "data.plot(ax=ax, x='Critic_Score', y='Global_Sales', style='o')\n",
        "plt.xlabel('Critic_Score', fontsize=20)\n",
        "plt.ylabel('Global_Sales', fontsize=20)"
      ],
      "execution_count": null,
      "outputs": [
        {
          "output_type": "execute_result",
          "data": {
            "text/plain": [
              "Text(0, 0.5, 'Global_Sales')"
            ]
          },
          "metadata": {
            "tags": []
          },
          "execution_count": 10
        },
        {
          "output_type": "display_data",
          "data": {
            "image/png": "[encoded data removed]",
            "text/plain": [
              "<Figure size 2160x1440 with 1 Axes>"
            ]
          },
          "metadata": {
            "tags": [],
            "needs_background": "light"
          }
        }
      ]
    },
    {
      "cell_type": "markdown",
      "metadata": {
        "id": "-I3xERpiCXF-"
      },
      "source": [
        ""
      ]
    },
    {
      "cell_type": "code",
      "metadata": {
        "colab": {
          "base_uri": "https://localhost:8080/",
          "height": 341
        },
        "id": "kbfvfpB4j3Zo",
        "outputId": "fb9b48e4-c769-4c28-ae53-1c3d6127c76d"
      },
      "source": [
        "# Get correlation between numerical values\n",
        "# The middle value, 0, is represented with white.\n",
        "# The higher the value, the more positively correlated two variables are.\n",
        "# The higher the value the redder the cell becomes.\n",
        "sns.heatmap(data.corr(), center=0, annot = True, fmt='.2g',cmap= 'coolwarm')"
      ],
      "execution_count": null,
      "outputs": [
        {
          "output_type": "execute_result",
          "data": {
            "text/plain": [
              "<matplotlib.axes._subplots.AxesSubplot at 0x7f2b0f351850>"
            ]
          },
          "metadata": {
            "tags": []
          },
          "execution_count": 11
        },
        {
          "output_type": "display_data",
          "data": {
            "image/png": "[encoded data removed]",
            "text/plain": [
              "<Figure size 432x288 with 2 Axes>"
            ]
          },
          "metadata": {
            "tags": [],
            "needs_background": "light"
          }
        }
      ]
    },
    {
      "cell_type": "markdown",
      "metadata": {
        "id": "GbFXABNskIlr"
      },
      "source": [
        "# How does the number of platforms the publisher publishes on affect their sales?"
      ]
    },
    {
      "cell_type": "code",
      "metadata": {
        "id": "v986nt2wTHAa",
        "colab": {
          "base_uri": "https://localhost:8080/",
          "height": 423
        },
        "outputId": "0fea5b4c-6b9f-4b26-82c2-b2fa75093d6f"
      },
      "source": [
        "# number_of_platforms_by_publisher counts the number of unique platforms the publisher published on\n",
        "number_of_platforms_by_publisher = data.groupby('Publisher')['Platform'].nunique().reset_index(name='Number of Platforms by Publisher')\n",
        "number_of_platforms_by_publisher.sort_values(by='Number of Platforms by Publisher')"
      ],
      "execution_count": null,
      "outputs": [
        {
          "output_type": "execute_result",
          "data": {
            "text/html": [
              "<div>\n",
              "<style scoped>\n",
              "    .dataframe tbody tr th:only-of-type {\n",
              "        vertical-align: middle;\n",
              "    }\n",
              "\n",
              "    .dataframe tbody tr th {\n",
              "        vertical-align: top;\n",
              "    }\n",
              "\n",
              "    .dataframe thead th {\n",
              "        text-align: right;\n",
              "    }\n",
              "</style>\n",
              "<table border=\"1\" class=\"dataframe\">\n",
              "  <thead>\n",
              "    <tr style=\"text-align: right;\">\n",
              "      <th></th>\n",
              "      <th>Publisher</th>\n",
              "      <th>Number of Platforms by Publisher</th>\n",
              "    </tr>\n",
              "  </thead>\n",
              "  <tbody>\n",
              "    <tr>\n",
              "      <th>156</th>\n",
              "      <td>Extreme Entertainment Group</td>\n",
              "      <td>1</td>\n",
              "    </tr>\n",
              "    <tr>\n",
              "      <th>397</th>\n",
              "      <td>Phenomedia</td>\n",
              "      <td>1</td>\n",
              "    </tr>\n",
              "    <tr>\n",
              "      <th>205</th>\n",
              "      <td>Graphsim Entertainment</td>\n",
              "      <td>1</td>\n",
              "    </tr>\n",
              "    <tr>\n",
              "      <th>204</th>\n",
              "      <td>Grand Prix Games</td>\n",
              "      <td>1</td>\n",
              "    </tr>\n",
              "    <tr>\n",
              "      <th>398</th>\n",
              "      <td>Phoenix Games</td>\n",
              "      <td>1</td>\n",
              "    </tr>\n",
              "    <tr>\n",
              "      <th>...</th>\n",
              "      <td>...</td>\n",
              "      <td>...</td>\n",
              "    </tr>\n",
              "    <tr>\n",
              "      <th>21</th>\n",
              "      <td>Activision</td>\n",
              "      <td>20</td>\n",
              "    </tr>\n",
              "    <tr>\n",
              "      <th>448</th>\n",
              "      <td>Sega</td>\n",
              "      <td>21</td>\n",
              "    </tr>\n",
              "    <tr>\n",
              "      <th>85</th>\n",
              "      <td>Capcom</td>\n",
              "      <td>23</td>\n",
              "    </tr>\n",
              "    <tr>\n",
              "      <th>349</th>\n",
              "      <td>Namco Bandai Games</td>\n",
              "      <td>23</td>\n",
              "    </tr>\n",
              "    <tr>\n",
              "      <th>277</th>\n",
              "      <td>Konami Digital Entertainment</td>\n",
              "      <td>23</td>\n",
              "    </tr>\n",
              "  </tbody>\n",
              "</table>\n",
              "<p>581 rows × 2 columns</p>\n",
              "</div>"
            ],
            "text/plain": [
              "                        Publisher  Number of Platforms by Publisher\n",
              "156   Extreme Entertainment Group                                 1\n",
              "397                    Phenomedia                                 1\n",
              "205        Graphsim Entertainment                                 1\n",
              "204              Grand Prix Games                                 1\n",
              "398                 Phoenix Games                                 1\n",
              "..                            ...                               ...\n",
              "21                     Activision                                20\n",
              "448                          Sega                                21\n",
              "85                         Capcom                                23\n",
              "349            Namco Bandai Games                                23\n",
              "277  Konami Digital Entertainment                                23\n",
              "\n",
              "[581 rows x 2 columns]"
            ]
          },
          "metadata": {
            "tags": []
          },
          "execution_count": 12
        }
      ]
    },
    {
      "cell_type": "code",
      "metadata": {
        "id": "ZzSVwHETWdjo",
        "colab": {
          "base_uri": "https://localhost:8080/",
          "height": 423
        },
        "outputId": "e21a7162-0001-46a8-efdb-9871378b41b7"
      },
      "source": [
        "# global_sales_by_publisher is the sum of all the sold units of games published by the publisher.\n",
        "global_sales_by_publisher = data.groupby('Publisher')['Global_Sales'].sum().reset_index(name='Sum of Global Sales by Publisher')\n",
        "global_sales_by_publisher.sort_values(by='Sum of Global Sales by Publisher')"
      ],
      "execution_count": null,
      "outputs": [
        {
          "output_type": "execute_result",
          "data": {
            "text/html": [
              "<div>\n",
              "<style scoped>\n",
              "    .dataframe tbody tr th:only-of-type {\n",
              "        vertical-align: middle;\n",
              "    }\n",
              "\n",
              "    .dataframe tbody tr th {\n",
              "        vertical-align: top;\n",
              "    }\n",
              "\n",
              "    .dataframe thead th {\n",
              "        text-align: right;\n",
              "    }\n",
              "</style>\n",
              "<table border=\"1\" class=\"dataframe\">\n",
              "  <thead>\n",
              "    <tr style=\"text-align: right;\">\n",
              "      <th></th>\n",
              "      <th>Publisher</th>\n",
              "      <th>Sum of Global Sales by Publisher</th>\n",
              "    </tr>\n",
              "  </thead>\n",
              "  <tbody>\n",
              "    <tr>\n",
              "      <th>321</th>\n",
              "      <td>Michaelsoft</td>\n",
              "      <td>0.01</td>\n",
              "    </tr>\n",
              "    <tr>\n",
              "      <th>379</th>\n",
              "      <td>Otomate</td>\n",
              "      <td>0.01</td>\n",
              "    </tr>\n",
              "    <tr>\n",
              "      <th>527</th>\n",
              "      <td>UIG Entertainment</td>\n",
              "      <td>0.01</td>\n",
              "    </tr>\n",
              "    <tr>\n",
              "      <th>391</th>\n",
              "      <td>Paradox Development</td>\n",
              "      <td>0.01</td>\n",
              "    </tr>\n",
              "    <tr>\n",
              "      <th>498</th>\n",
              "      <td>Takuyo</td>\n",
              "      <td>0.01</td>\n",
              "    </tr>\n",
              "    <tr>\n",
              "      <th>...</th>\n",
              "      <td>...</td>\n",
              "      <td>...</td>\n",
              "    </tr>\n",
              "    <tr>\n",
              "      <th>528</th>\n",
              "      <td>Ubisoft</td>\n",
              "      <td>471.61</td>\n",
              "    </tr>\n",
              "    <tr>\n",
              "      <th>458</th>\n",
              "      <td>Sony Computer Entertainment</td>\n",
              "      <td>606.48</td>\n",
              "    </tr>\n",
              "    <tr>\n",
              "      <th>21</th>\n",
              "      <td>Activision</td>\n",
              "      <td>731.16</td>\n",
              "    </tr>\n",
              "    <tr>\n",
              "      <th>139</th>\n",
              "      <td>Electronic Arts</td>\n",
              "      <td>1116.96</td>\n",
              "    </tr>\n",
              "    <tr>\n",
              "      <th>361</th>\n",
              "      <td>Nintendo</td>\n",
              "      <td>1788.81</td>\n",
              "    </tr>\n",
              "  </tbody>\n",
              "</table>\n",
              "<p>581 rows × 2 columns</p>\n",
              "</div>"
            ],
            "text/plain": [
              "                       Publisher  Sum of Global Sales by Publisher\n",
              "321                  Michaelsoft                              0.01\n",
              "379                      Otomate                              0.01\n",
              "527            UIG Entertainment                              0.01\n",
              "391          Paradox Development                              0.01\n",
              "498                       Takuyo                              0.01\n",
              "..                           ...                               ...\n",
              "528                      Ubisoft                            471.61\n",
              "458  Sony Computer Entertainment                            606.48\n",
              "21                    Activision                            731.16\n",
              "139              Electronic Arts                           1116.96\n",
              "361                     Nintendo                           1788.81\n",
              "\n",
              "[581 rows x 2 columns]"
            ]
          },
          "metadata": {
            "tags": []
          },
          "execution_count": 13
        }
      ]
    },
    {
      "cell_type": "code",
      "metadata": {
        "id": "YQNs3KWcXIcj",
        "colab": {
          "base_uri": "https://localhost:8080/",
          "height": 423
        },
        "outputId": "6a5724e8-2868-431e-8472-a1fb00640438"
      },
      "source": [
        "# Create a new dataframe with publisher, number_of_platforms_by_publisher, and global_sales_by_publisher\n",
        "# and sort by number of platforms by publisher.\n",
        "df = number_of_platforms_by_publisher.join(global_sales_by_publisher['Sum of Global Sales by Publisher'])\n",
        "df.sort_values(by='Number of Platforms by Publisher')"
      ],
      "execution_count": null,
      "outputs": [
        {
          "output_type": "execute_result",
          "data": {
            "text/html": [
              "<div>\n",
              "<style scoped>\n",
              "    .dataframe tbody tr th:only-of-type {\n",
              "        vertical-align: middle;\n",
              "    }\n",
              "\n",
              "    .dataframe tbody tr th {\n",
              "        vertical-align: top;\n",
              "    }\n",
              "\n",
              "    .dataframe thead th {\n",
              "        text-align: right;\n",
              "    }\n",
              "</style>\n",
              "<table border=\"1\" class=\"dataframe\">\n",
              "  <thead>\n",
              "    <tr style=\"text-align: right;\">\n",
              "      <th></th>\n",
              "      <th>Publisher</th>\n",
              "      <th>Number of Platforms by Publisher</th>\n",
              "      <th>Sum of Global Sales by Publisher</th>\n",
              "    </tr>\n",
              "  </thead>\n",
              "  <tbody>\n",
              "    <tr>\n",
              "      <th>156</th>\n",
              "      <td>Extreme Entertainment Group</td>\n",
              "      <td>1</td>\n",
              "      <td>0.03</td>\n",
              "    </tr>\n",
              "    <tr>\n",
              "      <th>397</th>\n",
              "      <td>Phenomedia</td>\n",
              "      <td>1</td>\n",
              "      <td>0.18</td>\n",
              "    </tr>\n",
              "    <tr>\n",
              "      <th>205</th>\n",
              "      <td>Graphsim Entertainment</td>\n",
              "      <td>1</td>\n",
              "      <td>0.02</td>\n",
              "    </tr>\n",
              "    <tr>\n",
              "      <th>204</th>\n",
              "      <td>Grand Prix Games</td>\n",
              "      <td>1</td>\n",
              "      <td>0.06</td>\n",
              "    </tr>\n",
              "    <tr>\n",
              "      <th>398</th>\n",
              "      <td>Phoenix Games</td>\n",
              "      <td>1</td>\n",
              "      <td>0.02</td>\n",
              "    </tr>\n",
              "    <tr>\n",
              "      <th>...</th>\n",
              "      <td>...</td>\n",
              "      <td>...</td>\n",
              "      <td>...</td>\n",
              "    </tr>\n",
              "    <tr>\n",
              "      <th>21</th>\n",
              "      <td>Activision</td>\n",
              "      <td>20</td>\n",
              "      <td>731.16</td>\n",
              "    </tr>\n",
              "    <tr>\n",
              "      <th>448</th>\n",
              "      <td>Sega</td>\n",
              "      <td>21</td>\n",
              "      <td>270.35</td>\n",
              "    </tr>\n",
              "    <tr>\n",
              "      <th>85</th>\n",
              "      <td>Capcom</td>\n",
              "      <td>23</td>\n",
              "      <td>200.02</td>\n",
              "    </tr>\n",
              "    <tr>\n",
              "      <th>349</th>\n",
              "      <td>Namco Bandai Games</td>\n",
              "      <td>23</td>\n",
              "      <td>254.62</td>\n",
              "    </tr>\n",
              "    <tr>\n",
              "      <th>277</th>\n",
              "      <td>Konami Digital Entertainment</td>\n",
              "      <td>23</td>\n",
              "      <td>282.39</td>\n",
              "    </tr>\n",
              "  </tbody>\n",
              "</table>\n",
              "<p>581 rows × 3 columns</p>\n",
              "</div>"
            ],
            "text/plain": [
              "                        Publisher  ...  Sum of Global Sales by Publisher\n",
              "156   Extreme Entertainment Group  ...                              0.03\n",
              "397                    Phenomedia  ...                              0.18\n",
              "205        Graphsim Entertainment  ...                              0.02\n",
              "204              Grand Prix Games  ...                              0.06\n",
              "398                 Phoenix Games  ...                              0.02\n",
              "..                            ...  ...                               ...\n",
              "21                     Activision  ...                            731.16\n",
              "448                          Sega  ...                            270.35\n",
              "85                         Capcom  ...                            200.02\n",
              "349            Namco Bandai Games  ...                            254.62\n",
              "277  Konami Digital Entertainment  ...                            282.39\n",
              "\n",
              "[581 rows x 3 columns]"
            ]
          },
          "metadata": {
            "tags": []
          },
          "execution_count": 14
        }
      ]
    },
    {
      "cell_type": "code",
      "metadata": {
        "id": "qJuLfKPmaxND",
        "colab": {
          "base_uri": "https://localhost:8080/",
          "height": 793
        },
        "outputId": "c4da0582-6897-435b-be24-8d1dd0a67757"
      },
      "source": [
        "# Plot the dataframe\n",
        "fig = plt.figure(figsize=(30, 20))\n",
        "ax = fig.add_subplot(111)\n",
        "\n",
        "df.plot(ax=ax, x='Number of Platforms by Publisher', y='Sum of Global Sales by Publisher', style='o')\n",
        "plt.xlabel('Number of Platforms by Publisher', fontsize=20)\n",
        "plt.ylabel('Sum of Global Sales by Publisher', fontsize=20)"
      ],
      "execution_count": null,
      "outputs": [
        {
          "output_type": "execute_result",
          "data": {
            "text/plain": [
              "Text(0, 0.5, 'Sum of Global Sales by Publisher')"
            ]
          },
          "metadata": {
            "tags": []
          },
          "execution_count": 15
        },
        {
          "output_type": "display_data",
          "data": {
            "image/png": "[encoded data removed]",
            "text/plain": [
              "<Figure size 2160x1440 with 1 Axes>"
            ]
          },
          "metadata": {
            "tags": [],
            "needs_background": "light"
          }
        }
      ]
    },
    {
      "cell_type": "code",
      "metadata": {
        "id": "dAKwlgnabKVw",
        "colab": {
          "base_uri": "https://localhost:8080/",
          "height": 445
        },
        "outputId": "9e1f1d34-7dda-457d-ab1a-f3294080801b"
      },
      "source": [
        "# Get the correlation between number_of_platforms_by_publisher and global_sales_by_publisher\n",
        "sns.heatmap(df.corr(), center=0, annot = True, fmt='.2g', cmap= 'coolwarm')"
      ],
      "execution_count": null,
      "outputs": [
        {
          "output_type": "execute_result",
          "data": {
            "text/plain": [
              "<matplotlib.axes._subplots.AxesSubplot at 0x7f2b0656bcd0>"
            ]
          },
          "metadata": {
            "tags": []
          },
          "execution_count": 16
        },
        {
          "output_type": "display_data",
          "data": {
            "image/png": "[encoded data removed]",
            "text/plain": [
              "<Figure size 432x288 with 2 Axes>"
            ]
          },
          "metadata": {
            "tags": [],
            "needs_background": "light"
          }
        }
      ]
    },
    {
      "cell_type": "code",
      "metadata": {
        "id": "vwiErbA4bIpF"
      },
      "source": [
        "# Linearize the above dataframe by taking the log of global_sales_by_publisher\n",
        "linearized = df\n",
        "linearized['Sum of Global Sales by Publisher'] = np.log(linearized['Sum of Global Sales by Publisher'])"
      ],
      "execution_count": null,
      "outputs": []
    },
    {
      "cell_type": "code",
      "metadata": {
        "colab": {
          "base_uri": "https://localhost:8080/",
          "height": 797
        },
        "id": "ZJa3Hb_bbZ7i",
        "outputId": "0bee7d31-2bd5-4ba4-b81c-64fe70209b82"
      },
      "source": [
        "# Plot the linearized dataframe\n",
        "fig = plt.figure(figsize=(30, 20))\n",
        "ax = fig.add_subplot(111)\n",
        "\n",
        "linearized.plot(ax=ax, x='Number of Platforms by Publisher', y='Sum of Global Sales by Publisher', style='o')\n",
        "plt.xlabel('Number of Platforms by Publisher', fontsize=20)\n",
        "plt.ylabel('Sum of Global Sales by Publisher', fontsize=20)"
      ],
      "execution_count": null,
      "outputs": [
        {
          "output_type": "execute_result",
          "data": {
            "text/plain": [
              "Text(0, 0.5, 'Sum of Global Sales by Publisher')"
            ]
          },
          "metadata": {
            "tags": []
          },
          "execution_count": 18
        },
        {
          "output_type": "display_data",
          "data": {
            "image/png": "[encoded data removed]",
            "text/plain": [
              "<Figure size 2160x1440 with 1 Axes>"
            ]
          },
          "metadata": {
            "tags": [],
            "needs_background": "light"
          }
        }
      ]
    },
    {
      "cell_type": "code",
      "metadata": {
        "colab": {
          "base_uri": "https://localhost:8080/",
          "height": 445
        },
        "id": "s2NYo_1tb3pF",
        "outputId": "1cd9fa66-03b2-4fda-c3e6-17625b8be9b6"
      },
      "source": [
        "# Get the correlation between number_of_platforms_by_publisher and log(global_sales_by_publisher)\n",
        "sns.heatmap(linearized.corr(), center=0, annot = True, fmt='.2g',cmap= 'coolwarm')"
      ],
      "execution_count": null,
      "outputs": [
        {
          "output_type": "execute_result",
          "data": {
            "text/plain": [
              "<matplotlib.axes._subplots.AxesSubplot at 0x7f2b06468510>"
            ]
          },
          "metadata": {
            "tags": []
          },
          "execution_count": 19
        },
        {
          "output_type": "display_data",
          "data": {
            "image/png": "[encoded data removed]",
            "text/plain": [
              "<Figure size 432x288 with 2 Axes>"
            ]
          },
          "metadata": {
            "tags": [],
            "needs_background": "light"
          }
        }
      ]
    },
    {
      "cell_type": "markdown",
      "metadata": {
        "id": "eju6L2O9k2Rf"
      },
      "source": [
        "# How does the number of titles the publisher publishes affect their sales?"
      ]
    },
    {
      "cell_type": "code",
      "metadata": {
        "colab": {
          "base_uri": "https://localhost:8080/",
          "height": 423
        },
        "id": "Koqnt_TVgFJa",
        "outputId": "3fbe8183-520b-4873-fdd7-8806260c355f"
      },
      "source": [
        "# number_of_titles_by_publisher counts the number of unique titles the publisher published\n",
        "number_of_titles_by_publisher = data.groupby('Publisher')['Name'].nunique().reset_index(name='Number of Titles by Publisher')\n",
        "number_of_titles_by_publisher.sort_values(by='Number of Titles by Publisher')"
      ],
      "execution_count": null,
      "outputs": [
        {
          "output_type": "execute_result",
          "data": {
            "text/html": [
              "<div>\n",
              "<style scoped>\n",
              "    .dataframe tbody tr th:only-of-type {\n",
              "        vertical-align: middle;\n",
              "    }\n",
              "\n",
              "    .dataframe tbody tr th {\n",
              "        vertical-align: top;\n",
              "    }\n",
              "\n",
              "    .dataframe thead th {\n",
              "        text-align: right;\n",
              "    }\n",
              "</style>\n",
              "<table border=\"1\" class=\"dataframe\">\n",
              "  <thead>\n",
              "    <tr style=\"text-align: right;\">\n",
              "      <th></th>\n",
              "      <th>Publisher</th>\n",
              "      <th>Number of Titles by Publisher</th>\n",
              "    </tr>\n",
              "  </thead>\n",
              "  <tbody>\n",
              "    <tr>\n",
              "      <th>580</th>\n",
              "      <td>responDESIGN</td>\n",
              "      <td>1</td>\n",
              "    </tr>\n",
              "    <tr>\n",
              "      <th>395</th>\n",
              "      <td>Phantagram</td>\n",
              "      <td>1</td>\n",
              "    </tr>\n",
              "    <tr>\n",
              "      <th>394</th>\n",
              "      <td>Performance Designed Products</td>\n",
              "      <td>1</td>\n",
              "    </tr>\n",
              "    <tr>\n",
              "      <th>176</th>\n",
              "      <td>GOA</td>\n",
              "      <td>1</td>\n",
              "    </tr>\n",
              "    <tr>\n",
              "      <th>391</th>\n",
              "      <td>Paradox Development</td>\n",
              "      <td>1</td>\n",
              "    </tr>\n",
              "    <tr>\n",
              "      <th>...</th>\n",
              "      <td>...</td>\n",
              "      <td>...</td>\n",
              "    </tr>\n",
              "    <tr>\n",
              "      <th>139</th>\n",
              "      <td>Electronic Arts</td>\n",
              "      <td>608</td>\n",
              "    </tr>\n",
              "    <tr>\n",
              "      <th>458</th>\n",
              "      <td>Sony Computer Entertainment</td>\n",
              "      <td>627</td>\n",
              "    </tr>\n",
              "    <tr>\n",
              "      <th>277</th>\n",
              "      <td>Konami Digital Entertainment</td>\n",
              "      <td>641</td>\n",
              "    </tr>\n",
              "    <tr>\n",
              "      <th>361</th>\n",
              "      <td>Nintendo</td>\n",
              "      <td>671</td>\n",
              "    </tr>\n",
              "    <tr>\n",
              "      <th>349</th>\n",
              "      <td>Namco Bandai Games</td>\n",
              "      <td>783</td>\n",
              "    </tr>\n",
              "  </tbody>\n",
              "</table>\n",
              "<p>581 rows × 2 columns</p>\n",
              "</div>"
            ],
            "text/plain": [
              "                         Publisher  Number of Titles by Publisher\n",
              "580                   responDESIGN                              1\n",
              "395                     Phantagram                              1\n",
              "394  Performance Designed Products                              1\n",
              "176                            GOA                              1\n",
              "391            Paradox Development                              1\n",
              "..                             ...                            ...\n",
              "139                Electronic Arts                            608\n",
              "458    Sony Computer Entertainment                            627\n",
              "277   Konami Digital Entertainment                            641\n",
              "361                       Nintendo                            671\n",
              "349             Namco Bandai Games                            783\n",
              "\n",
              "[581 rows x 2 columns]"
            ]
          },
          "metadata": {
            "tags": []
          },
          "execution_count": 20
        }
      ]
    },
    {
      "cell_type": "code",
      "metadata": {
        "colab": {
          "base_uri": "https://localhost:8080/",
          "height": 423
        },
        "id": "DpliPbuagWMe",
        "outputId": "f20b641e-38a1-444d-8b2c-a9b30e4b7e8d"
      },
      "source": [
        "# Create a new dataframe with publisher, number_of_titles_by_publisher, and global_sales_by_publisher\n",
        "# and sort by number of titles by publisher.\n",
        "df_2 = number_of_titles_by_publisher.join(global_sales_by_publisher['Sum of Global Sales by Publisher'])\n",
        "df_2.sort_values(by='Number of Titles by Publisher')"
      ],
      "execution_count": null,
      "outputs": [
        {
          "output_type": "execute_result",
          "data": {
            "text/html": [
              "<div>\n",
              "<style scoped>\n",
              "    .dataframe tbody tr th:only-of-type {\n",
              "        vertical-align: middle;\n",
              "    }\n",
              "\n",
              "    .dataframe tbody tr th {\n",
              "        vertical-align: top;\n",
              "    }\n",
              "\n",
              "    .dataframe thead th {\n",
              "        text-align: right;\n",
              "    }\n",
              "</style>\n",
              "<table border=\"1\" class=\"dataframe\">\n",
              "  <thead>\n",
              "    <tr style=\"text-align: right;\">\n",
              "      <th></th>\n",
              "      <th>Publisher</th>\n",
              "      <th>Number of Titles by Publisher</th>\n",
              "      <th>Sum of Global Sales by Publisher</th>\n",
              "    </tr>\n",
              "  </thead>\n",
              "  <tbody>\n",
              "    <tr>\n",
              "      <th>580</th>\n",
              "      <td>responDESIGN</td>\n",
              "      <td>1</td>\n",
              "      <td>0.13</td>\n",
              "    </tr>\n",
              "    <tr>\n",
              "      <th>395</th>\n",
              "      <td>Phantagram</td>\n",
              "      <td>1</td>\n",
              "      <td>0.05</td>\n",
              "    </tr>\n",
              "    <tr>\n",
              "      <th>394</th>\n",
              "      <td>Performance Designed Products</td>\n",
              "      <td>1</td>\n",
              "      <td>0.35</td>\n",
              "    </tr>\n",
              "    <tr>\n",
              "      <th>176</th>\n",
              "      <td>GOA</td>\n",
              "      <td>1</td>\n",
              "      <td>0.02</td>\n",
              "    </tr>\n",
              "    <tr>\n",
              "      <th>391</th>\n",
              "      <td>Paradox Development</td>\n",
              "      <td>1</td>\n",
              "      <td>0.01</td>\n",
              "    </tr>\n",
              "    <tr>\n",
              "      <th>...</th>\n",
              "      <td>...</td>\n",
              "      <td>...</td>\n",
              "      <td>...</td>\n",
              "    </tr>\n",
              "    <tr>\n",
              "      <th>139</th>\n",
              "      <td>Electronic Arts</td>\n",
              "      <td>608</td>\n",
              "      <td>1116.96</td>\n",
              "    </tr>\n",
              "    <tr>\n",
              "      <th>458</th>\n",
              "      <td>Sony Computer Entertainment</td>\n",
              "      <td>627</td>\n",
              "      <td>606.48</td>\n",
              "    </tr>\n",
              "    <tr>\n",
              "      <th>277</th>\n",
              "      <td>Konami Digital Entertainment</td>\n",
              "      <td>641</td>\n",
              "      <td>282.39</td>\n",
              "    </tr>\n",
              "    <tr>\n",
              "      <th>361</th>\n",
              "      <td>Nintendo</td>\n",
              "      <td>671</td>\n",
              "      <td>1788.81</td>\n",
              "    </tr>\n",
              "    <tr>\n",
              "      <th>349</th>\n",
              "      <td>Namco Bandai Games</td>\n",
              "      <td>783</td>\n",
              "      <td>254.62</td>\n",
              "    </tr>\n",
              "  </tbody>\n",
              "</table>\n",
              "<p>581 rows × 3 columns</p>\n",
              "</div>"
            ],
            "text/plain": [
              "                         Publisher  ...  Sum of Global Sales by Publisher\n",
              "580                   responDESIGN  ...                              0.13\n",
              "395                     Phantagram  ...                              0.05\n",
              "394  Performance Designed Products  ...                              0.35\n",
              "176                            GOA  ...                              0.02\n",
              "391            Paradox Development  ...                              0.01\n",
              "..                             ...  ...                               ...\n",
              "139                Electronic Arts  ...                           1116.96\n",
              "458    Sony Computer Entertainment  ...                            606.48\n",
              "277   Konami Digital Entertainment  ...                            282.39\n",
              "361                       Nintendo  ...                           1788.81\n",
              "349             Namco Bandai Games  ...                            254.62\n",
              "\n",
              "[581 rows x 3 columns]"
            ]
          },
          "metadata": {
            "tags": []
          },
          "execution_count": 21
        }
      ]
    },
    {
      "cell_type": "code",
      "metadata": {
        "colab": {
          "base_uri": "https://localhost:8080/",
          "height": 793
        },
        "id": "2UndqajIgetr",
        "outputId": "eacfe0f0-ea1b-449f-b19e-480796c477be"
      },
      "source": [
        "# Plot the dataframe\n",
        "fig = plt.figure(figsize=(30, 20))\n",
        "ax = fig.add_subplot(111)\n",
        "\n",
        "df_2.plot(ax=ax, x='Number of Titles by Publisher', y='Sum of Global Sales by Publisher', style='o')\n",
        "plt.xlabel('Number of Titles by Publisher', fontsize=20)\n",
        "plt.ylabel('Sum of Global Sales by Publisher', fontsize=20)"
      ],
      "execution_count": null,
      "outputs": [
        {
          "output_type": "execute_result",
          "data": {
            "text/plain": [
              "Text(0, 0.5, 'Sum of Global Sales by Publisher')"
            ]
          },
          "metadata": {
            "tags": []
          },
          "execution_count": 22
        },
        {
          "output_type": "display_data",
          "data": {
            "image/png": "[encoded data removed]",
            "text/plain": [
              "<Figure size 2160x1440 with 1 Axes>"
            ]
          },
          "metadata": {
            "tags": [],
            "needs_background": "light"
          }
        }
      ]
    },
    {
      "cell_type": "code",
      "metadata": {
        "colab": {
          "base_uri": "https://localhost:8080/",
          "height": 441
        },
        "id": "LvnQ8KLYgnFW",
        "outputId": "ddbc1d2c-5b63-4372-cf2d-97fa01d696de"
      },
      "source": [
        "# Get the correlation between number_of_titles_by_publisher and global_sales_by_publisher\n",
        "sns.heatmap(df_2.corr(), center=0, annot = True, fmt='.2g',cmap= 'coolwarm')"
      ],
      "execution_count": null,
      "outputs": [
        {
          "output_type": "execute_result",
          "data": {
            "text/plain": [
              "<matplotlib.axes._subplots.AxesSubplot at 0x7f2b062c3950>"
            ]
          },
          "metadata": {
            "tags": []
          },
          "execution_count": 23
        },
        {
          "output_type": "display_data",
          "data": {
            "image/png": "[encoded data removed]",
            "text/plain": [
              "<Figure size 432x288 with 2 Axes>"
            ]
          },
          "metadata": {
            "tags": [],
            "needs_background": "light"
          }
        }
      ]
    },
    {
      "cell_type": "code",
      "metadata": {
        "id": "H1QA9l4PkrGr"
      },
      "source": [
        "# Transform the above dataframe by taking the log of both variables\n",
        "linearized_2 = df_2\n",
        "linearized_2['Sum of Global Sales by Publisher'] = np.log(linearized_2['Sum of Global Sales by Publisher'])\n",
        "linearized_2['Number of Titles by Publisher']    = np.log(linearized_2['Number of Titles by Publisher'])"
      ],
      "execution_count": null,
      "outputs": []
    },
    {
      "cell_type": "code",
      "metadata": {
        "colab": {
          "base_uri": "https://localhost:8080/",
          "height": 797
        },
        "id": "6iJRmB5RlEef",
        "outputId": "ce54b57b-47cd-4ae2-aa1b-e0d37669eaab"
      },
      "source": [
        "# Plot the transformed dataframe.\n",
        "fig = plt.figure(figsize=(30, 20))\n",
        "ax = fig.add_subplot(111)\n",
        "\n",
        "linearized_2.plot(ax=ax, x='Number of Titles by Publisher', y='Sum of Global Sales by Publisher', style='o')\n",
        "plt.xlabel('Number of Titles by Publisher', fontsize=20)\n",
        "plt.ylabel('Sum of Global Sales by Publisher', fontsize=20)"
      ],
      "execution_count": null,
      "outputs": [
        {
          "output_type": "execute_result",
          "data": {
            "text/plain": [
              "Text(0, 0.5, 'Sum of Global Sales by Publisher')"
            ]
          },
          "metadata": {
            "tags": []
          },
          "execution_count": 25
        },
        {
          "output_type": "display_data",
          "data": {
            "image/png": "[encoded data removed]",
            "text/plain": [
              "<Figure size 2160x1440 with 1 Axes>"
            ]
          },
          "metadata": {
            "tags": [],
            "needs_background": "light"
          }
        }
      ]
    },
    {
      "cell_type": "code",
      "metadata": {
        "colab": {
          "base_uri": "https://localhost:8080/",
          "height": 441
        },
        "id": "_agTz1-flHzt",
        "outputId": "44b621a3-3c10-4485-d2b8-a377e9e999a3"
      },
      "source": [
        "# Get the correlation between the two variables\n",
        "sns.heatmap(linearized_2.corr(), center=0, annot = True, fmt='.2g',cmap= 'coolwarm')"
      ],
      "execution_count": null,
      "outputs": [
        {
          "output_type": "execute_result",
          "data": {
            "text/plain": [
              "<matplotlib.axes._subplots.AxesSubplot at 0x7f2b061e6550>"
            ]
          },
          "metadata": {
            "tags": []
          },
          "execution_count": 26
        },
        {
          "output_type": "display_data",
          "data": {
            "image/png": "[encoded data removed]",
            "text/plain": [
              "<Figure size 432x288 with 2 Axes>"
            ]
          },
          "metadata": {
            "tags": [],
            "needs_background": "light"
          }
        }
      ]
    },
    {
      "cell_type": "markdown",
      "metadata": {
        "id": "5TUKHvhNod6j"
      },
      "source": [
        "# Are the number of titles published and the number of platforms published on correlated?"
      ]
    },
    {
      "cell_type": "code",
      "metadata": {
        "colab": {
          "base_uri": "https://localhost:8080/",
          "height": 423
        },
        "id": "E6DdSYd9odR4",
        "outputId": "0b4a8029-4afc-4dc6-c50a-81563da157b0"
      },
      "source": [
        "# Create a new dataframe with publisher, number_of_titles_by_publisher, and number_of_platforms_by_publisher\n",
        "# and sort by number of platforms by publisher.\n",
        "df_3 = number_of_titles_by_publisher.join(number_of_platforms_by_publisher['Number of Platforms by Publisher'])\n",
        "df_3.sort_values(by='Number of Platforms by Publisher')"
      ],
      "execution_count": null,
      "outputs": [
        {
          "output_type": "execute_result",
          "data": {
            "text/html": [
              "<div>\n",
              "<style scoped>\n",
              "    .dataframe tbody tr th:only-of-type {\n",
              "        vertical-align: middle;\n",
              "    }\n",
              "\n",
              "    .dataframe tbody tr th {\n",
              "        vertical-align: top;\n",
              "    }\n",
              "\n",
              "    .dataframe thead th {\n",
              "        text-align: right;\n",
              "    }\n",
              "</style>\n",
              "<table border=\"1\" class=\"dataframe\">\n",
              "  <thead>\n",
              "    <tr style=\"text-align: right;\">\n",
              "      <th></th>\n",
              "      <th>Publisher</th>\n",
              "      <th>Number of Titles by Publisher</th>\n",
              "      <th>Number of Platforms by Publisher</th>\n",
              "    </tr>\n",
              "  </thead>\n",
              "  <tbody>\n",
              "    <tr>\n",
              "      <th>156</th>\n",
              "      <td>Extreme Entertainment Group</td>\n",
              "      <td>1</td>\n",
              "      <td>1</td>\n",
              "    </tr>\n",
              "    <tr>\n",
              "      <th>397</th>\n",
              "      <td>Phenomedia</td>\n",
              "      <td>4</td>\n",
              "      <td>1</td>\n",
              "    </tr>\n",
              "    <tr>\n",
              "      <th>205</th>\n",
              "      <td>Graphsim Entertainment</td>\n",
              "      <td>1</td>\n",
              "      <td>1</td>\n",
              "    </tr>\n",
              "    <tr>\n",
              "      <th>204</th>\n",
              "      <td>Grand Prix Games</td>\n",
              "      <td>1</td>\n",
              "      <td>1</td>\n",
              "    </tr>\n",
              "    <tr>\n",
              "      <th>398</th>\n",
              "      <td>Phoenix Games</td>\n",
              "      <td>1</td>\n",
              "      <td>1</td>\n",
              "    </tr>\n",
              "    <tr>\n",
              "      <th>...</th>\n",
              "      <td>...</td>\n",
              "      <td>...</td>\n",
              "      <td>...</td>\n",
              "    </tr>\n",
              "    <tr>\n",
              "      <th>21</th>\n",
              "      <td>Activision</td>\n",
              "      <td>421</td>\n",
              "      <td>20</td>\n",
              "    </tr>\n",
              "    <tr>\n",
              "      <th>448</th>\n",
              "      <td>Sega</td>\n",
              "      <td>480</td>\n",
              "      <td>21</td>\n",
              "    </tr>\n",
              "    <tr>\n",
              "      <th>85</th>\n",
              "      <td>Capcom</td>\n",
              "      <td>278</td>\n",
              "      <td>23</td>\n",
              "    </tr>\n",
              "    <tr>\n",
              "      <th>349</th>\n",
              "      <td>Namco Bandai Games</td>\n",
              "      <td>783</td>\n",
              "      <td>23</td>\n",
              "    </tr>\n",
              "    <tr>\n",
              "      <th>277</th>\n",
              "      <td>Konami Digital Entertainment</td>\n",
              "      <td>641</td>\n",
              "      <td>23</td>\n",
              "    </tr>\n",
              "  </tbody>\n",
              "</table>\n",
              "<p>581 rows × 3 columns</p>\n",
              "</div>"
            ],
            "text/plain": [
              "                        Publisher  ...  Number of Platforms by Publisher\n",
              "156   Extreme Entertainment Group  ...                                 1\n",
              "397                    Phenomedia  ...                                 1\n",
              "205        Graphsim Entertainment  ...                                 1\n",
              "204              Grand Prix Games  ...                                 1\n",
              "398                 Phoenix Games  ...                                 1\n",
              "..                            ...  ...                               ...\n",
              "21                     Activision  ...                                20\n",
              "448                          Sega  ...                                21\n",
              "85                         Capcom  ...                                23\n",
              "349            Namco Bandai Games  ...                                23\n",
              "277  Konami Digital Entertainment  ...                                23\n",
              "\n",
              "[581 rows x 3 columns]"
            ]
          },
          "metadata": {
            "tags": []
          },
          "execution_count": 27
        }
      ]
    },
    {
      "cell_type": "code",
      "metadata": {
        "colab": {
          "base_uri": "https://localhost:8080/",
          "height": 795
        },
        "id": "Hqn4wxYhpWF7",
        "outputId": "1af5d398-e0b0-44a2-c442-728ec91c4e92"
      },
      "source": [
        "# Plot the dataframe\n",
        "fig = plt.figure(figsize=(30, 20))\n",
        "ax = fig.add_subplot(111)\n",
        "\n",
        "df_3.plot(ax=ax, x='Number of Platforms by Publisher', y='Number of Titles by Publisher', style='o')\n",
        "plt.xlabel('Number of Titles by Publisher', fontsize=20)\n",
        "plt.ylabel('Number of Platforms by Publisher', fontsize=20)"
      ],
      "execution_count": null,
      "outputs": [
        {
          "output_type": "execute_result",
          "data": {
            "text/plain": [
              "Text(0, 0.5, 'Number of Platforms by Publisher')"
            ]
          },
          "metadata": {
            "tags": []
          },
          "execution_count": 28
        },
        {
          "output_type": "display_data",
          "data": {
            "image/png": "[encoded data removed]",
            "text/plain": [
              "<Figure size 2160x1440 with 1 Axes>"
            ]
          },
          "metadata": {
            "tags": [],
            "needs_background": "light"
          }
        }
      ]
    },
    {
      "cell_type": "code",
      "metadata": {
        "colab": {
          "base_uri": "https://localhost:8080/",
          "height": 445
        },
        "id": "QlaavWYFph8B",
        "outputId": "66e753df-dfb0-41e8-ba67-c7867043cfa1"
      },
      "source": [
        "# Get the corrrelation between number_of_titles_by_publisher and number_of_platforms_by_publisher\n",
        "sns.heatmap(df_3.corr(), center=0, annot = True, fmt='.2g',cmap= 'coolwarm')"
      ],
      "execution_count": null,
      "outputs": [
        {
          "output_type": "execute_result",
          "data": {
            "text/plain": [
              "<matplotlib.axes._subplots.AxesSubplot at 0x7f2b0637cc10>"
            ]
          },
          "metadata": {
            "tags": []
          },
          "execution_count": 29
        },
        {
          "output_type": "display_data",
          "data": {
            "image/png": "[encoded data removed]",
            "text/plain": [
              "<Figure size 432x288 with 2 Axes>"
            ]
          },
          "metadata": {
            "tags": [],
            "needs_background": "light"
          }
        }
      ]
    },
    {
      "cell_type": "code",
      "metadata": {
        "id": "bVTk5cjOcTsz"
      },
      "source": [
        "# Linearize the above dataframe by taking the log of number_of_titles_by_publisher\n",
        "linearized_3 = df_3\n",
        "linearized_3['Number of Titles by Publisher'] = np.log(linearized_3['Number of Titles by Publisher'])"
      ],
      "execution_count": null,
      "outputs": []
    },
    {
      "cell_type": "code",
      "metadata": {
        "colab": {
          "base_uri": "https://localhost:8080/",
          "height": 801
        },
        "id": "RNph8uJYeCtU",
        "outputId": "1d8be5db-7cad-4332-c643-d98cae3ad6f2"
      },
      "source": [
        "# Plot the linearized dataframe\n",
        "fig = plt.figure(figsize=(30, 20))\n",
        "ax = fig.add_subplot(111)\n",
        "\n",
        "linearized_3.plot(ax=ax, x='Number of Platforms by Publisher', y='Number of Titles by Publisher', style='o')\n",
        "plt.xlabel('Number of Titles by Publisher', fontsize=20)\n",
        "plt.ylabel('Number of Platforms by Publisher', fontsize=20)"
      ],
      "execution_count": null,
      "outputs": [
        {
          "output_type": "execute_result",
          "data": {
            "text/plain": [
              "Text(0, 0.5, 'Number of Platforms by Publisher')"
            ]
          },
          "metadata": {
            "tags": []
          },
          "execution_count": 31
        },
        {
          "output_type": "display_data",
          "data": {
            "image/png": "[encoded data removed]",
            "text/plain": [
              "<Figure size 2160x1440 with 1 Axes>"
            ]
          },
          "metadata": {
            "tags": [],
            "needs_background": "light"
          }
        }
      ]
    },
    {
      "cell_type": "code",
      "metadata": {
        "colab": {
          "base_uri": "https://localhost:8080/",
          "height": 445
        },
        "id": "TK1WgIoLeywV",
        "outputId": "29b64a6d-295d-4a11-90d8-3d2da0b0c8e0"
      },
      "source": [
        "# Get the correlation between number_of_platforms_by_publisher and log(number_of_titles_by_publisher)\n",
        "sns.heatmap(linearized_3.corr(), center=0, annot = True, fmt='.2g',cmap= 'coolwarm')"
      ],
      "execution_count": null,
      "outputs": [
        {
          "output_type": "execute_result",
          "data": {
            "text/plain": [
              "<matplotlib.axes._subplots.AxesSubplot at 0x7f2b0604b790>"
            ]
          },
          "metadata": {
            "tags": []
          },
          "execution_count": 32
        },
        {
          "output_type": "display_data",
          "data": {
            "image/png": "[encoded data removed]",
            "text/plain": [
              "<Figure size 432x288 with 2 Axes>"
            ]
          },
          "metadata": {
            "tags": [],
            "needs_background": "light"
          }
        }
      ]
    },
    {
      "cell_type": "markdown",
      "metadata": {
        "id": "u-CEuKkwk7dG"
      },
      "source": [
        "# What is the best selling Platform in each Region?"
      ]
    },
    {
      "cell_type": "code",
      "metadata": {
        "id": "-pRKK1oFlQrO",
        "colab": {
          "base_uri": "https://localhost:8080/",
          "height": 363
        },
        "outputId": "fc38a282-622f-4a97-920b-58cfcb3e5620"
      },
      "source": [
        "# Count how many millions of units of games are sold in North America by platform\n",
        "# get the top 10 highest sales by platform.\n",
        "NA_by_platform = data.groupby('Platform')['NA_Sales'].sum().sort_values(ascending=False).reset_index(name='Sum of NA Sales by Platform')\n",
        "NA_by_platform = NA_by_platform[:10]\n",
        "NA_by_platform"
      ],
      "execution_count": null,
      "outputs": [
        {
          "output_type": "execute_result",
          "data": {
            "text/html": [
              "<div>\n",
              "<style scoped>\n",
              "    .dataframe tbody tr th:only-of-type {\n",
              "        vertical-align: middle;\n",
              "    }\n",
              "\n",
              "    .dataframe tbody tr th {\n",
              "        vertical-align: top;\n",
              "    }\n",
              "\n",
              "    .dataframe thead th {\n",
              "        text-align: right;\n",
              "    }\n",
              "</style>\n",
              "<table border=\"1\" class=\"dataframe\">\n",
              "  <thead>\n",
              "    <tr style=\"text-align: right;\">\n",
              "      <th></th>\n",
              "      <th>Platform</th>\n",
              "      <th>Sum of NA Sales by Platform</th>\n",
              "    </tr>\n",
              "  </thead>\n",
              "  <tbody>\n",
              "    <tr>\n",
              "      <th>0</th>\n",
              "      <td>X360</td>\n",
              "      <td>602.47</td>\n",
              "    </tr>\n",
              "    <tr>\n",
              "      <th>1</th>\n",
              "      <td>PS2</td>\n",
              "      <td>583.84</td>\n",
              "    </tr>\n",
              "    <tr>\n",
              "      <th>2</th>\n",
              "      <td>Wii</td>\n",
              "      <td>496.90</td>\n",
              "    </tr>\n",
              "    <tr>\n",
              "      <th>3</th>\n",
              "      <td>PS3</td>\n",
              "      <td>393.49</td>\n",
              "    </tr>\n",
              "    <tr>\n",
              "      <th>4</th>\n",
              "      <td>DS</td>\n",
              "      <td>382.67</td>\n",
              "    </tr>\n",
              "    <tr>\n",
              "      <th>5</th>\n",
              "      <td>PS</td>\n",
              "      <td>336.52</td>\n",
              "    </tr>\n",
              "    <tr>\n",
              "      <th>6</th>\n",
              "      <td>GBA</td>\n",
              "      <td>187.54</td>\n",
              "    </tr>\n",
              "    <tr>\n",
              "      <th>7</th>\n",
              "      <td>XB</td>\n",
              "      <td>186.69</td>\n",
              "    </tr>\n",
              "    <tr>\n",
              "      <th>8</th>\n",
              "      <td>N64</td>\n",
              "      <td>139.02</td>\n",
              "    </tr>\n",
              "    <tr>\n",
              "      <th>9</th>\n",
              "      <td>GC</td>\n",
              "      <td>133.46</td>\n",
              "    </tr>\n",
              "  </tbody>\n",
              "</table>\n",
              "</div>"
            ],
            "text/plain": [
              "  Platform  Sum of NA Sales by Platform\n",
              "0     X360                       602.47\n",
              "1      PS2                       583.84\n",
              "2      Wii                       496.90\n",
              "3      PS3                       393.49\n",
              "4       DS                       382.67\n",
              "5       PS                       336.52\n",
              "6      GBA                       187.54\n",
              "7       XB                       186.69\n",
              "8      N64                       139.02\n",
              "9       GC                       133.46"
            ]
          },
          "metadata": {
            "tags": []
          },
          "execution_count": 33
        }
      ]
    },
    {
      "cell_type": "code",
      "metadata": {
        "id": "388fddoink-f",
        "collapsed": true,
        "colab": {
          "base_uri": "https://localhost:8080/",
          "height": 363
        },
        "outputId": "d5b5c814-4570-419e-be6d-769c91564efa"
      },
      "source": [
        "# Count how many millions of units of games are sold in Europe by platform\n",
        "# get the top 10 highest sales by platform.\n",
        "EU_by_platform = data.groupby('Platform')['EU_Sales'].sum().sort_values(ascending=False).reset_index(name='Sum of EU Sales by Platform')\n",
        "EU_by_platform = EU_by_platform[:10]\n",
        "EU_by_platform"
      ],
      "execution_count": null,
      "outputs": [
        {
          "output_type": "execute_result",
          "data": {
            "text/html": [
              "<div>\n",
              "<style scoped>\n",
              "    .dataframe tbody tr th:only-of-type {\n",
              "        vertical-align: middle;\n",
              "    }\n",
              "\n",
              "    .dataframe tbody tr th {\n",
              "        vertical-align: top;\n",
              "    }\n",
              "\n",
              "    .dataframe thead th {\n",
              "        text-align: right;\n",
              "    }\n",
              "</style>\n",
              "<table border=\"1\" class=\"dataframe\">\n",
              "  <thead>\n",
              "    <tr style=\"text-align: right;\">\n",
              "      <th></th>\n",
              "      <th>Platform</th>\n",
              "      <th>Sum of EU Sales by Platform</th>\n",
              "    </tr>\n",
              "  </thead>\n",
              "  <tbody>\n",
              "    <tr>\n",
              "      <th>0</th>\n",
              "      <td>PS2</td>\n",
              "      <td>339.29</td>\n",
              "    </tr>\n",
              "    <tr>\n",
              "      <th>1</th>\n",
              "      <td>PS3</td>\n",
              "      <td>330.29</td>\n",
              "    </tr>\n",
              "    <tr>\n",
              "      <th>2</th>\n",
              "      <td>X360</td>\n",
              "      <td>270.76</td>\n",
              "    </tr>\n",
              "    <tr>\n",
              "      <th>3</th>\n",
              "      <td>Wii</td>\n",
              "      <td>262.21</td>\n",
              "    </tr>\n",
              "    <tr>\n",
              "      <th>4</th>\n",
              "      <td>PS</td>\n",
              "      <td>213.61</td>\n",
              "    </tr>\n",
              "    <tr>\n",
              "      <th>5</th>\n",
              "      <td>DS</td>\n",
              "      <td>188.89</td>\n",
              "    </tr>\n",
              "    <tr>\n",
              "      <th>6</th>\n",
              "      <td>PC</td>\n",
              "      <td>142.44</td>\n",
              "    </tr>\n",
              "    <tr>\n",
              "      <th>7</th>\n",
              "      <td>PS4</td>\n",
              "      <td>141.09</td>\n",
              "    </tr>\n",
              "    <tr>\n",
              "      <th>8</th>\n",
              "      <td>GBA</td>\n",
              "      <td>75.25</td>\n",
              "    </tr>\n",
              "    <tr>\n",
              "      <th>9</th>\n",
              "      <td>PSP</td>\n",
              "      <td>66.68</td>\n",
              "    </tr>\n",
              "  </tbody>\n",
              "</table>\n",
              "</div>"
            ],
            "text/plain": [
              "  Platform  Sum of EU Sales by Platform\n",
              "0      PS2                       339.29\n",
              "1      PS3                       330.29\n",
              "2     X360                       270.76\n",
              "3      Wii                       262.21\n",
              "4       PS                       213.61\n",
              "5       DS                       188.89\n",
              "6       PC                       142.44\n",
              "7      PS4                       141.09\n",
              "8      GBA                        75.25\n",
              "9      PSP                        66.68"
            ]
          },
          "metadata": {
            "tags": []
          },
          "execution_count": 34
        }
      ]
    },
    {
      "cell_type": "code",
      "metadata": {
        "id": "DkYiT7I0puq-",
        "colab": {
          "base_uri": "https://localhost:8080/",
          "height": 363
        },
        "outputId": "aafab202-75c4-4c3a-cc1d-4db86069b0df"
      },
      "source": [
        "# Count how many millions of units of games are sold in Japan by platform\n",
        "# get the top 10 highest sales by platform.\n",
        "JP_by_platform = data.groupby('Platform')['JP_Sales'].sum().sort_values(ascending=False).reset_index(name='Sum of JP Sales by Platform')\n",
        "JP_by_platform = JP_by_platform[:10]\n",
        "JP_by_platform"
      ],
      "execution_count": null,
      "outputs": [
        {
          "output_type": "execute_result",
          "data": {
            "text/html": [
              "<div>\n",
              "<style scoped>\n",
              "    .dataframe tbody tr th:only-of-type {\n",
              "        vertical-align: middle;\n",
              "    }\n",
              "\n",
              "    .dataframe tbody tr th {\n",
              "        vertical-align: top;\n",
              "    }\n",
              "\n",
              "    .dataframe thead th {\n",
              "        text-align: right;\n",
              "    }\n",
              "</style>\n",
              "<table border=\"1\" class=\"dataframe\">\n",
              "  <thead>\n",
              "    <tr style=\"text-align: right;\">\n",
              "      <th></th>\n",
              "      <th>Platform</th>\n",
              "      <th>Sum of JP Sales by Platform</th>\n",
              "    </tr>\n",
              "  </thead>\n",
              "  <tbody>\n",
              "    <tr>\n",
              "      <th>0</th>\n",
              "      <td>DS</td>\n",
              "      <td>175.57</td>\n",
              "    </tr>\n",
              "    <tr>\n",
              "      <th>1</th>\n",
              "      <td>PS</td>\n",
              "      <td>139.82</td>\n",
              "    </tr>\n",
              "    <tr>\n",
              "      <th>2</th>\n",
              "      <td>PS2</td>\n",
              "      <td>139.20</td>\n",
              "    </tr>\n",
              "    <tr>\n",
              "      <th>3</th>\n",
              "      <td>SNES</td>\n",
              "      <td>116.55</td>\n",
              "    </tr>\n",
              "    <tr>\n",
              "      <th>4</th>\n",
              "      <td>3DS</td>\n",
              "      <td>100.67</td>\n",
              "    </tr>\n",
              "    <tr>\n",
              "      <th>5</th>\n",
              "      <td>NES</td>\n",
              "      <td>98.65</td>\n",
              "    </tr>\n",
              "    <tr>\n",
              "      <th>6</th>\n",
              "      <td>GB</td>\n",
              "      <td>85.12</td>\n",
              "    </tr>\n",
              "    <tr>\n",
              "      <th>7</th>\n",
              "      <td>PS3</td>\n",
              "      <td>80.19</td>\n",
              "    </tr>\n",
              "    <tr>\n",
              "      <th>8</th>\n",
              "      <td>PSP</td>\n",
              "      <td>76.78</td>\n",
              "    </tr>\n",
              "    <tr>\n",
              "      <th>9</th>\n",
              "      <td>Wii</td>\n",
              "      <td>69.33</td>\n",
              "    </tr>\n",
              "  </tbody>\n",
              "</table>\n",
              "</div>"
            ],
            "text/plain": [
              "  Platform  Sum of JP Sales by Platform\n",
              "0       DS                       175.57\n",
              "1       PS                       139.82\n",
              "2      PS2                       139.20\n",
              "3     SNES                       116.55\n",
              "4      3DS                       100.67\n",
              "5      NES                        98.65\n",
              "6       GB                        85.12\n",
              "7      PS3                        80.19\n",
              "8      PSP                        76.78\n",
              "9      Wii                        69.33"
            ]
          },
          "metadata": {
            "tags": []
          },
          "execution_count": 35
        }
      ]
    },
    {
      "cell_type": "code",
      "metadata": {
        "id": "YUMdbi1ZqB85",
        "colab": {
          "base_uri": "https://localhost:8080/",
          "height": 363
        },
        "outputId": "86b41e04-3891-41e4-cdd1-c343433c3d6b"
      },
      "source": [
        "# Count how many millions of units of games are sold in other regions by platform\n",
        "# get the top 10 highest sales by platform.\n",
        "other_by_platform = data.groupby('Platform')['Other_Sales'].sum().sort_values(ascending=False).reset_index(name='Sum of Other Sales by Platform')\n",
        "other_by_platform = other_by_platform[:10]\n",
        "other_by_platform"
      ],
      "execution_count": null,
      "outputs": [
        {
          "output_type": "execute_result",
          "data": {
            "text/html": [
              "<div>\n",
              "<style scoped>\n",
              "    .dataframe tbody tr th:only-of-type {\n",
              "        vertical-align: middle;\n",
              "    }\n",
              "\n",
              "    .dataframe tbody tr th {\n",
              "        vertical-align: top;\n",
              "    }\n",
              "\n",
              "    .dataframe thead th {\n",
              "        text-align: right;\n",
              "    }\n",
              "</style>\n",
              "<table border=\"1\" class=\"dataframe\">\n",
              "  <thead>\n",
              "    <tr style=\"text-align: right;\">\n",
              "      <th></th>\n",
              "      <th>Platform</th>\n",
              "      <th>Sum of Other Sales by Platform</th>\n",
              "    </tr>\n",
              "  </thead>\n",
              "  <tbody>\n",
              "    <tr>\n",
              "      <th>0</th>\n",
              "      <td>PS2</td>\n",
              "      <td>193.44</td>\n",
              "    </tr>\n",
              "    <tr>\n",
              "      <th>1</th>\n",
              "      <td>PS3</td>\n",
              "      <td>135.68</td>\n",
              "    </tr>\n",
              "    <tr>\n",
              "      <th>2</th>\n",
              "      <td>X360</td>\n",
              "      <td>85.76</td>\n",
              "    </tr>\n",
              "    <tr>\n",
              "      <th>3</th>\n",
              "      <td>Wii</td>\n",
              "      <td>79.07</td>\n",
              "    </tr>\n",
              "    <tr>\n",
              "      <th>4</th>\n",
              "      <td>DS</td>\n",
              "      <td>59.28</td>\n",
              "    </tr>\n",
              "    <tr>\n",
              "      <th>5</th>\n",
              "      <td>PS4</td>\n",
              "      <td>48.35</td>\n",
              "    </tr>\n",
              "    <tr>\n",
              "      <th>6</th>\n",
              "      <td>PSP</td>\n",
              "      <td>41.42</td>\n",
              "    </tr>\n",
              "    <tr>\n",
              "      <th>7</th>\n",
              "      <td>PS</td>\n",
              "      <td>40.91</td>\n",
              "    </tr>\n",
              "    <tr>\n",
              "      <th>8</th>\n",
              "      <td>PC</td>\n",
              "      <td>22.38</td>\n",
              "    </tr>\n",
              "    <tr>\n",
              "      <th>9</th>\n",
              "      <td>XOne</td>\n",
              "      <td>14.27</td>\n",
              "    </tr>\n",
              "  </tbody>\n",
              "</table>\n",
              "</div>"
            ],
            "text/plain": [
              "  Platform  Sum of Other Sales by Platform\n",
              "0      PS2                          193.44\n",
              "1      PS3                          135.68\n",
              "2     X360                           85.76\n",
              "3      Wii                           79.07\n",
              "4       DS                           59.28\n",
              "5      PS4                           48.35\n",
              "6      PSP                           41.42\n",
              "7       PS                           40.91\n",
              "8       PC                           22.38\n",
              "9     XOne                           14.27"
            ]
          },
          "metadata": {
            "tags": []
          },
          "execution_count": 36
        }
      ]
    },
    {
      "cell_type": "code",
      "metadata": {
        "id": "fdEycHMqoWeT",
        "collapsed": true,
        "colab": {
          "base_uri": "https://localhost:8080/",
          "height": 913
        },
        "outputId": "b0e36c4d-d885-4275-cdce-1adc9b78e453"
      },
      "source": [
        "# Plot all the above using bar graphs\n",
        "fig, axs = plt.subplots(2, 2, figsize=(15,15))\n",
        "\n",
        "NA_platform_plot = sns.barplot(ax=axs[0,0], y=\"Platform\", x=\"Sum of NA Sales by Platform\", orient=\"h\", data=NA_by_platform)\n",
        "axs[0, 0].set_title('Sum of NA Sales by Platform', fontsize=15)\n",
        "\n",
        "EU_platform_plot = sns.barplot(ax=axs[0,1], y=\"Platform\", x=\"Sum of EU Sales by Platform\", orient=\"h\", data=EU_by_platform)\n",
        "axs[0, 1].set_title('Sum of EU Sales by Platform', fontsize=15)\n",
        "\n",
        "JP_platform_plot = sns.barplot(ax=axs[1,0], y=\"Platform\", x=\"Sum of JP Sales by Platform\", orient=\"h\", data=JP_by_platform)\n",
        "axs[1, 0].set_title('Sum of JP Sales by Platform', fontsize=15)\n",
        "\n",
        "Other_platform_plot = sns.barplot(ax=axs[1,1], y=\"Platform\", x=\"Sum of Other Sales by Platform\", orient=\"h\", data=other_by_platform)\n",
        "axs[1, 1].set_title('Sum of Other Sales by Platform', fontsize=15)"
      ],
      "execution_count": null,
      "outputs": [
        {
          "output_type": "execute_result",
          "data": {
            "text/plain": [
              "Text(0.5, 1.0, 'Sum of Other Sales by Platform')"
            ]
          },
          "metadata": {
            "tags": []
          },
          "execution_count": 37
        },
        {
          "output_type": "display_data",
          "data": {
            "image/png": "[encoded data removed]",
            "text/plain": [
              "<Figure size 1080x1080 with 4 Axes>"
            ]
          },
          "metadata": {
            "tags": [],
            "needs_background": "light"
          }
        }
      ]
    },
    {
      "cell_type": "markdown",
      "metadata": {
        "id": "GtpNIyCKk7mO"
      },
      "source": [
        "# What is the best selling Genre in each Region?"
      ]
    },
    {
      "cell_type": "code",
      "metadata": {
        "id": "VI3S6pGKqJDr",
        "colab": {
          "base_uri": "https://localhost:8080/",
          "height": 363
        },
        "outputId": "977ddd3f-6c30-4455-82d2-9ff99c2d8315"
      },
      "source": [
        "# Count how many millions of units of games are sold in North America by genre\n",
        "# get the top 10 highest sales by platform.\n",
        "NA_by_genre = data.groupby('Genre')['NA_Sales'].sum().sort_values(ascending=False).reset_index(name='Sum of NA Sales by Genre')\n",
        "NA_by_genre = NA_by_genre[:10]\n",
        "NA_by_genre"
      ],
      "execution_count": null,
      "outputs": [
        {
          "output_type": "execute_result",
          "data": {
            "text/html": [
              "<div>\n",
              "<style scoped>\n",
              "    .dataframe tbody tr th:only-of-type {\n",
              "        vertical-align: middle;\n",
              "    }\n",
              "\n",
              "    .dataframe tbody tr th {\n",
              "        vertical-align: top;\n",
              "    }\n",
              "\n",
              "    .dataframe thead th {\n",
              "        text-align: right;\n",
              "    }\n",
              "</style>\n",
              "<table border=\"1\" class=\"dataframe\">\n",
              "  <thead>\n",
              "    <tr style=\"text-align: right;\">\n",
              "      <th></th>\n",
              "      <th>Genre</th>\n",
              "      <th>Sum of NA Sales by Genre</th>\n",
              "    </tr>\n",
              "  </thead>\n",
              "  <tbody>\n",
              "    <tr>\n",
              "      <th>0</th>\n",
              "      <td>Action</td>\n",
              "      <td>879.01</td>\n",
              "    </tr>\n",
              "    <tr>\n",
              "      <th>1</th>\n",
              "      <td>Sports</td>\n",
              "      <td>684.43</td>\n",
              "    </tr>\n",
              "    <tr>\n",
              "      <th>2</th>\n",
              "      <td>Shooter</td>\n",
              "      <td>592.24</td>\n",
              "    </tr>\n",
              "    <tr>\n",
              "      <th>3</th>\n",
              "      <td>Platform</td>\n",
              "      <td>445.50</td>\n",
              "    </tr>\n",
              "    <tr>\n",
              "      <th>4</th>\n",
              "      <td>Misc</td>\n",
              "      <td>407.27</td>\n",
              "    </tr>\n",
              "    <tr>\n",
              "      <th>5</th>\n",
              "      <td>Racing</td>\n",
              "      <td>359.35</td>\n",
              "    </tr>\n",
              "    <tr>\n",
              "      <th>6</th>\n",
              "      <td>Role-Playing</td>\n",
              "      <td>330.81</td>\n",
              "    </tr>\n",
              "    <tr>\n",
              "      <th>7</th>\n",
              "      <td>Fighting</td>\n",
              "      <td>223.36</td>\n",
              "    </tr>\n",
              "    <tr>\n",
              "      <th>8</th>\n",
              "      <td>Simulation</td>\n",
              "      <td>182.19</td>\n",
              "    </tr>\n",
              "    <tr>\n",
              "      <th>9</th>\n",
              "      <td>Puzzle</td>\n",
              "      <td>122.87</td>\n",
              "    </tr>\n",
              "  </tbody>\n",
              "</table>\n",
              "</div>"
            ],
            "text/plain": [
              "          Genre  Sum of NA Sales by Genre\n",
              "0        Action                    879.01\n",
              "1        Sports                    684.43\n",
              "2       Shooter                    592.24\n",
              "3      Platform                    445.50\n",
              "4          Misc                    407.27\n",
              "5        Racing                    359.35\n",
              "6  Role-Playing                    330.81\n",
              "7      Fighting                    223.36\n",
              "8    Simulation                    182.19\n",
              "9        Puzzle                    122.87"
            ]
          },
          "metadata": {
            "tags": []
          },
          "execution_count": 38
        }
      ]
    },
    {
      "cell_type": "code",
      "metadata": {
        "id": "Va-jjNxIqJGa",
        "colab": {
          "base_uri": "https://localhost:8080/",
          "height": 363
        },
        "outputId": "d15ff10d-e8f7-429f-c6c3-d5630be8fa4d"
      },
      "source": [
        "# Count how many millions of units of games are sold in Europe by genre\n",
        "# get the top 10 highest sales by platform.\n",
        "EU_by_genre = data.groupby('Genre')['EU_Sales'].sum().sort_values(ascending=False).reset_index(name='Sum of EU Sales by Genre')\n",
        "EU_by_genre = EU_by_genre[:10]\n",
        "EU_by_genre"
      ],
      "execution_count": null,
      "outputs": [
        {
          "output_type": "execute_result",
          "data": {
            "text/html": [
              "<div>\n",
              "<style scoped>\n",
              "    .dataframe tbody tr th:only-of-type {\n",
              "        vertical-align: middle;\n",
              "    }\n",
              "\n",
              "    .dataframe tbody tr th {\n",
              "        vertical-align: top;\n",
              "    }\n",
              "\n",
              "    .dataframe thead th {\n",
              "        text-align: right;\n",
              "    }\n",
              "</style>\n",
              "<table border=\"1\" class=\"dataframe\">\n",
              "  <thead>\n",
              "    <tr style=\"text-align: right;\">\n",
              "      <th></th>\n",
              "      <th>Genre</th>\n",
              "      <th>Sum of EU Sales by Genre</th>\n",
              "    </tr>\n",
              "  </thead>\n",
              "  <tbody>\n",
              "    <tr>\n",
              "      <th>0</th>\n",
              "      <td>Action</td>\n",
              "      <td>519.13</td>\n",
              "    </tr>\n",
              "    <tr>\n",
              "      <th>1</th>\n",
              "      <td>Sports</td>\n",
              "      <td>376.79</td>\n",
              "    </tr>\n",
              "    <tr>\n",
              "      <th>2</th>\n",
              "      <td>Shooter</td>\n",
              "      <td>317.34</td>\n",
              "    </tr>\n",
              "    <tr>\n",
              "      <th>3</th>\n",
              "      <td>Racing</td>\n",
              "      <td>236.51</td>\n",
              "    </tr>\n",
              "    <tr>\n",
              "      <th>4</th>\n",
              "      <td>Misc</td>\n",
              "      <td>212.74</td>\n",
              "    </tr>\n",
              "    <tr>\n",
              "      <th>5</th>\n",
              "      <td>Platform</td>\n",
              "      <td>200.35</td>\n",
              "    </tr>\n",
              "    <tr>\n",
              "      <th>6</th>\n",
              "      <td>Role-Playing</td>\n",
              "      <td>188.71</td>\n",
              "    </tr>\n",
              "    <tr>\n",
              "      <th>7</th>\n",
              "      <td>Simulation</td>\n",
              "      <td>113.52</td>\n",
              "    </tr>\n",
              "    <tr>\n",
              "      <th>8</th>\n",
              "      <td>Fighting</td>\n",
              "      <td>100.33</td>\n",
              "    </tr>\n",
              "    <tr>\n",
              "      <th>9</th>\n",
              "      <td>Adventure</td>\n",
              "      <td>63.54</td>\n",
              "    </tr>\n",
              "  </tbody>\n",
              "</table>\n",
              "</div>"
            ],
            "text/plain": [
              "          Genre  Sum of EU Sales by Genre\n",
              "0        Action                    519.13\n",
              "1        Sports                    376.79\n",
              "2       Shooter                    317.34\n",
              "3        Racing                    236.51\n",
              "4          Misc                    212.74\n",
              "5      Platform                    200.35\n",
              "6  Role-Playing                    188.71\n",
              "7    Simulation                    113.52\n",
              "8      Fighting                    100.33\n",
              "9     Adventure                     63.54"
            ]
          },
          "metadata": {
            "tags": []
          },
          "execution_count": 39
        }
      ]
    },
    {
      "cell_type": "code",
      "metadata": {
        "id": "uaRWWdVyqJJK",
        "colab": {
          "base_uri": "https://localhost:8080/",
          "height": 363
        },
        "outputId": "41b45d9f-4be9-45cd-bc0c-0c60e02fabd5"
      },
      "source": [
        "# Count how many millions of units of games are sold in Japan by genre\n",
        "# get the top 10 highest sales by platform.\n",
        "JP_by_genre = data.groupby('Genre')['JP_Sales'].sum().sort_values(ascending=False).reset_index(name='Sum of JP Sales by Genre')\n",
        "JP_by_genre = JP_by_genre[:10]\n",
        "JP_by_genre"
      ],
      "execution_count": null,
      "outputs": [
        {
          "output_type": "execute_result",
          "data": {
            "text/html": [
              "<div>\n",
              "<style scoped>\n",
              "    .dataframe tbody tr th:only-of-type {\n",
              "        vertical-align: middle;\n",
              "    }\n",
              "\n",
              "    .dataframe tbody tr th {\n",
              "        vertical-align: top;\n",
              "    }\n",
              "\n",
              "    .dataframe thead th {\n",
              "        text-align: right;\n",
              "    }\n",
              "</style>\n",
              "<table border=\"1\" class=\"dataframe\">\n",
              "  <thead>\n",
              "    <tr style=\"text-align: right;\">\n",
              "      <th></th>\n",
              "      <th>Genre</th>\n",
              "      <th>Sum of JP Sales by Genre</th>\n",
              "    </tr>\n",
              "  </thead>\n",
              "  <tbody>\n",
              "    <tr>\n",
              "      <th>0</th>\n",
              "      <td>Role-Playing</td>\n",
              "      <td>355.46</td>\n",
              "    </tr>\n",
              "    <tr>\n",
              "      <th>1</th>\n",
              "      <td>Action</td>\n",
              "      <td>161.44</td>\n",
              "    </tr>\n",
              "    <tr>\n",
              "      <th>2</th>\n",
              "      <td>Sports</td>\n",
              "      <td>135.54</td>\n",
              "    </tr>\n",
              "    <tr>\n",
              "      <th>3</th>\n",
              "      <td>Platform</td>\n",
              "      <td>130.83</td>\n",
              "    </tr>\n",
              "    <tr>\n",
              "      <th>4</th>\n",
              "      <td>Misc</td>\n",
              "      <td>108.11</td>\n",
              "    </tr>\n",
              "    <tr>\n",
              "      <th>5</th>\n",
              "      <td>Fighting</td>\n",
              "      <td>87.48</td>\n",
              "    </tr>\n",
              "    <tr>\n",
              "      <th>6</th>\n",
              "      <td>Simulation</td>\n",
              "      <td>63.80</td>\n",
              "    </tr>\n",
              "    <tr>\n",
              "      <th>7</th>\n",
              "      <td>Puzzle</td>\n",
              "      <td>57.31</td>\n",
              "    </tr>\n",
              "    <tr>\n",
              "      <th>8</th>\n",
              "      <td>Racing</td>\n",
              "      <td>56.71</td>\n",
              "    </tr>\n",
              "    <tr>\n",
              "      <th>9</th>\n",
              "      <td>Adventure</td>\n",
              "      <td>52.30</td>\n",
              "    </tr>\n",
              "  </tbody>\n",
              "</table>\n",
              "</div>"
            ],
            "text/plain": [
              "          Genre  Sum of JP Sales by Genre\n",
              "0  Role-Playing                    355.46\n",
              "1        Action                    161.44\n",
              "2        Sports                    135.54\n",
              "3      Platform                    130.83\n",
              "4          Misc                    108.11\n",
              "5      Fighting                     87.48\n",
              "6    Simulation                     63.80\n",
              "7        Puzzle                     57.31\n",
              "8        Racing                     56.71\n",
              "9     Adventure                     52.30"
            ]
          },
          "metadata": {
            "tags": []
          },
          "execution_count": 40
        }
      ]
    },
    {
      "cell_type": "code",
      "metadata": {
        "id": "q8MHfoisqJLv",
        "colab": {
          "base_uri": "https://localhost:8080/",
          "height": 363
        },
        "outputId": "209b6349-5125-41d7-e975-536a687306ca"
      },
      "source": [
        "# Count how many millions of units of games are sold in other regions by genre\n",
        "# get the top 10 highest sales by platform.\n",
        "other_by_genre = data.groupby('Genre')['Other_Sales'].sum().sort_values(ascending=False).reset_index(name='Sum of Other Sales by Genre')\n",
        "other_by_genre = other_by_genre[:10]\n",
        "other_by_genre"
      ],
      "execution_count": null,
      "outputs": [
        {
          "output_type": "execute_result",
          "data": {
            "text/html": [
              "<div>\n",
              "<style scoped>\n",
              "    .dataframe tbody tr th:only-of-type {\n",
              "        vertical-align: middle;\n",
              "    }\n",
              "\n",
              "    .dataframe tbody tr th {\n",
              "        vertical-align: top;\n",
              "    }\n",
              "\n",
              "    .dataframe thead th {\n",
              "        text-align: right;\n",
              "    }\n",
              "</style>\n",
              "<table border=\"1\" class=\"dataframe\">\n",
              "  <thead>\n",
              "    <tr style=\"text-align: right;\">\n",
              "      <th></th>\n",
              "      <th>Genre</th>\n",
              "      <th>Sum of Other Sales by Genre</th>\n",
              "    </tr>\n",
              "  </thead>\n",
              "  <tbody>\n",
              "    <tr>\n",
              "      <th>0</th>\n",
              "      <td>Action</td>\n",
              "      <td>184.60</td>\n",
              "    </tr>\n",
              "    <tr>\n",
              "      <th>1</th>\n",
              "      <td>Sports</td>\n",
              "      <td>134.51</td>\n",
              "    </tr>\n",
              "    <tr>\n",
              "      <th>2</th>\n",
              "      <td>Shooter</td>\n",
              "      <td>104.11</td>\n",
              "    </tr>\n",
              "    <tr>\n",
              "      <th>3</th>\n",
              "      <td>Racing</td>\n",
              "      <td>76.10</td>\n",
              "    </tr>\n",
              "    <tr>\n",
              "      <th>4</th>\n",
              "      <td>Misc</td>\n",
              "      <td>74.39</td>\n",
              "    </tr>\n",
              "    <tr>\n",
              "      <th>5</th>\n",
              "      <td>Role-Playing</td>\n",
              "      <td>59.63</td>\n",
              "    </tr>\n",
              "    <tr>\n",
              "      <th>6</th>\n",
              "      <td>Platform</td>\n",
              "      <td>51.09</td>\n",
              "    </tr>\n",
              "    <tr>\n",
              "      <th>7</th>\n",
              "      <td>Fighting</td>\n",
              "      <td>36.36</td>\n",
              "    </tr>\n",
              "    <tr>\n",
              "      <th>8</th>\n",
              "      <td>Simulation</td>\n",
              "      <td>30.75</td>\n",
              "    </tr>\n",
              "    <tr>\n",
              "      <th>9</th>\n",
              "      <td>Adventure</td>\n",
              "      <td>16.49</td>\n",
              "    </tr>\n",
              "  </tbody>\n",
              "</table>\n",
              "</div>"
            ],
            "text/plain": [
              "          Genre  Sum of Other Sales by Genre\n",
              "0        Action                       184.60\n",
              "1        Sports                       134.51\n",
              "2       Shooter                       104.11\n",
              "3        Racing                        76.10\n",
              "4          Misc                        74.39\n",
              "5  Role-Playing                        59.63\n",
              "6      Platform                        51.09\n",
              "7      Fighting                        36.36\n",
              "8    Simulation                        30.75\n",
              "9     Adventure                        16.49"
            ]
          },
          "metadata": {
            "tags": []
          },
          "execution_count": 41
        }
      ]
    },
    {
      "cell_type": "code",
      "metadata": {
        "id": "jN_J8R5eqJOw",
        "colab": {
          "base_uri": "https://localhost:8080/",
          "height": 913
        },
        "outputId": "1b20dce8-fd03-4d3f-903a-83a4468b4453"
      },
      "source": [
        "# Plot all the above using bar graphs\n",
        "fig, axs = plt.subplots(2, 2, figsize=(15,15))\n",
        "\n",
        "NA_genre_plot = sns.barplot(ax=axs[0,0], y=\"Genre\", x=\"Sum of NA Sales by Genre\", orient=\"h\", data=NA_by_genre)\n",
        "axs[0, 0].set_title('Sum of NA Sales by Genre', fontsize=15)\n",
        "\n",
        "EU_genre_plot = sns.barplot(ax=axs[0,1], y=\"Genre\", x=\"Sum of EU Sales by Genre\", orient=\"h\", data=EU_by_genre)\n",
        "axs[0, 1].set_title('Sum of EU Sales by Genre', fontsize=15)\n",
        "\n",
        "JP_genre_plot = sns.barplot(ax=axs[1,0], y=\"Genre\", x=\"Sum of JP Sales by Genre\", orient=\"h\", data=JP_by_genre)\n",
        "axs[1, 0].set_title('Sum of JP Sales by Genre', fontsize=15)\n",
        "\n",
        "Other_genre_plot = sns.barplot(ax=axs[1,1], y=\"Genre\", x=\"Sum of Other Sales by Genre\", orient=\"h\", data=other_by_genre)\n",
        "axs[1, 1].set_title('Sum of Other Sales by Genre', fontsize=15)"
      ],
      "execution_count": null,
      "outputs": [
        {
          "output_type": "execute_result",
          "data": {
            "text/plain": [
              "Text(0.5, 1.0, 'Sum of Other Sales by Genre')"
            ]
          },
          "metadata": {
            "tags": []
          },
          "execution_count": 42
        },
        {
          "output_type": "display_data",
          "data": {
            "image/png": "[encoded data removed]",
            "text/plain": [
              "<Figure size 1080x1080 with 4 Axes>"
            ]
          },
          "metadata": {
            "tags": [],
            "needs_background": "light"
          }
        }
      ]
    },
    {
      "cell_type": "markdown",
      "metadata": {
        "id": "G7xv5Tb_iD4i"
      },
      "source": [
        "# Final Question\n",
        "Independent Variables\n",
        "* number_of_platforms_by_publisher\n",
        "* number_of_titles_by_publisher\n",
        "\n",
        "Dependent Variables\n",
        "* Global_Sales"
      ]
    },
    {
      "cell_type": "code",
      "metadata": {
        "colab": {
          "base_uri": "https://localhost:8080/",
          "height": 206
        },
        "id": "UHyClQyoiEHP",
        "outputId": "290cb9be-cc16-42cc-f7f4-73fe16f38c78"
      },
      "source": [
        "# Create a new dataframe with publisher, log(global_sales_by_publisher), log(number_of_titles_by_publisher), \n",
        "# and number_of_platforms_by_publisher\n",
        "df_4 = linearized_3.join(linearized['Sum of Global Sales by Publisher'])\n",
        "df_4.head()"
      ],
      "execution_count": null,
      "outputs": [
        {
          "output_type": "execute_result",
          "data": {
            "text/html": [
              "<div>\n",
              "<style scoped>\n",
              "    .dataframe tbody tr th:only-of-type {\n",
              "        vertical-align: middle;\n",
              "    }\n",
              "\n",
              "    .dataframe tbody tr th {\n",
              "        vertical-align: top;\n",
              "    }\n",
              "\n",
              "    .dataframe thead th {\n",
              "        text-align: right;\n",
              "    }\n",
              "</style>\n",
              "<table border=\"1\" class=\"dataframe\">\n",
              "  <thead>\n",
              "    <tr style=\"text-align: right;\">\n",
              "      <th></th>\n",
              "      <th>Publisher</th>\n",
              "      <th>Number of Titles by Publisher</th>\n",
              "      <th>Number of Platforms by Publisher</th>\n",
              "      <th>Sum of Global Sales by Publisher</th>\n",
              "    </tr>\n",
              "  </thead>\n",
              "  <tbody>\n",
              "    <tr>\n",
              "      <th>0</th>\n",
              "      <td>10TACLE Studios</td>\n",
              "      <td>1.098612</td>\n",
              "      <td>2</td>\n",
              "      <td>-2.207275</td>\n",
              "    </tr>\n",
              "    <tr>\n",
              "      <th>1</th>\n",
              "      <td>1C Company</td>\n",
              "      <td>1.098612</td>\n",
              "      <td>1</td>\n",
              "      <td>-2.302585</td>\n",
              "    </tr>\n",
              "    <tr>\n",
              "      <th>2</th>\n",
              "      <td>20th Century Fox Video Games</td>\n",
              "      <td>1.609438</td>\n",
              "      <td>1</td>\n",
              "      <td>0.662688</td>\n",
              "    </tr>\n",
              "    <tr>\n",
              "      <th>3</th>\n",
              "      <td>2D Boy</td>\n",
              "      <td>0.000000</td>\n",
              "      <td>1</td>\n",
              "      <td>-3.218876</td>\n",
              "    </tr>\n",
              "    <tr>\n",
              "      <th>4</th>\n",
              "      <td>3DO</td>\n",
              "      <td>3.401197</td>\n",
              "      <td>5</td>\n",
              "      <td>2.314514</td>\n",
              "    </tr>\n",
              "  </tbody>\n",
              "</table>\n",
              "</div>"
            ],
            "text/plain": [
              "                      Publisher  ...  Sum of Global Sales by Publisher\n",
              "0               10TACLE Studios  ...                         -2.207275\n",
              "1                    1C Company  ...                         -2.302585\n",
              "2  20th Century Fox Video Games  ...                          0.662688\n",
              "3                        2D Boy  ...                         -3.218876\n",
              "4                           3DO  ...                          2.314514\n",
              "\n",
              "[5 rows x 4 columns]"
            ]
          },
          "metadata": {
            "tags": []
          },
          "execution_count": 43
        }
      ]
    },
    {
      "cell_type": "code",
      "metadata": {
        "colab": {
          "base_uri": "https://localhost:8080/"
        },
        "id": "IzcPpuGPrMMp",
        "outputId": "9bd8dcd0-b3cb-4a52-b522-f35689e8d06a"
      },
      "source": [
        "# The code below is based on https://stackoverflow.com/a/55369160/15043016\n",
        "# This code calculate thre R-squared of the 3 numerical varibles\n",
        "\n",
        "cor = df_4.corr()\n",
        "\n",
        "# Independent Variables\n",
        "x = 'Number of Titles by Publisher'\n",
        "y = 'Number of Platforms by Publisher'\n",
        "\n",
        "# Dependent Variables\n",
        "z = 'Sum of Global Sales by Publisher'\n",
        "\n",
        "# Pairings\n",
        "xz = cor.loc[x, z]\n",
        "yz = cor.loc[y, z]\n",
        "xy = cor.loc[x, y]\n",
        "\n",
        "Rxyz = math.sqrt((abs(xz**2) + abs(yz**2) - 2*xz*yz*xy) / (1-abs(xy**2)))\n",
        "R2 = Rxyz**2\n",
        "\n",
        "# Calculate adjusted R-squared\n",
        "n = len(df_4) # Number of rows\n",
        "k = 2         # Number of independent variables\n",
        "R2_adj = 1 - (((1-R2)*(n-1)) / (n-k-1))\n",
        "\n",
        "trunc_xz = round(xz * 100)\n",
        "trunc_yz = round(yz * 100)\n",
        "trunc_xy = round(xy * 100)\n",
        "percentage = round(R2_adj * 100)\n",
        "\n",
        "print('The correlation between the ' + x + ' and the log of the ' + z + ' is ' + str(trunc_xz) + '%')\n",
        "print('The correlation between the ' + y + ' and the '            + z + ' is ' + str(trunc_yz) + '%')\n",
        "print('The correlation between the ' + x + ' and the log of the ' + y + ' is ' + str(trunc_xy) + '%')\n",
        "print('Results show that the log of the ' + z + ' is ' + str(percentage) + '% correlated with the ' + x)\n",
        "print('\\tand the log of the ' + y)"
      ],
      "execution_count": null,
      "outputs": [
        {
          "output_type": "stream",
          "text": [
            "The correlation between the Number of Titles by Publisher and the log of the Sum of Global Sales by Publisher is 85%\n",
            "The correlation between the Number of Platforms by Publisher and the Sum of Global Sales by Publisher is 76%\n",
            "The correlation between the Number of Titles by Publisher and the log of the Number of Platforms by Publisher is 84%\n",
            "Results show that the log of the Sum of Global Sales by Publisher is 73% correlated with the Number of Titles by Publisher\n",
            "\tand the log of the Number of Platforms by Publisher\n"
          ],
          "name": "stdout"
        }
      ]
    },
    {
      "cell_type": "markdown",
      "metadata": {
        "id": "1m76XqKIumeu"
      },
      "source": [
        "# Linear Regression Models"
      ]
    },
    {
      "cell_type": "code",
      "metadata": {
        "colab": {
          "base_uri": "https://localhost:8080/"
        },
        "id": "zywOK-ypul7D",
        "outputId": "6399085b-0db3-446e-f3e5-a5ff67caa9a6"
      },
      "source": [
        "# The code below is based on: https://datatofish.com/multiple-linear-regression-python/\n",
        "# this code trains a linear regression model with 3 vaaribles using the data in df_4\n",
        "\n",
        "# here we have 2 variables for multiple regression. \n",
        "X = df_4[[x, y]]\n",
        "Y = df_4[z]\n",
        " \n",
        "# with sklearn\n",
        "regr = linear_model.LinearRegression()\n",
        "regr.fit(X, Y)\n",
        "\n",
        "print('Intercept: \\n', regr.intercept_)\n",
        "print('Coefficients: \\n', regr.coef_)\n",
        "\n",
        "# prediction with sklearn\n",
        "New_Number_of_Platforms = 10\n",
        "New_Number_of_Titles = 10\n",
        "\n",
        "p = regr.predict([[New_Number_of_Platforms, New_Number_of_Titles]])\n",
        "prediction = round(p[0], ndigits=6)\n",
        "\n",
        "print ('Predicted Global Sales (in millions of units): ' + str(prediction))"
      ],
      "execution_count": null,
      "outputs": [
        {
          "output_type": "stream",
          "text": [
            "Intercept: \n",
            " -2.6811480609181553\n",
            "Coefficients: \n",
            " [1.13610227 0.088456  ]\n",
            "Predicted Global Sales (in millions of units): 9.564435\n"
          ],
          "name": "stdout"
        }
      ]
    },
    {
      "cell_type": "code",
      "metadata": {
        "colab": {
          "base_uri": "https://localhost:8080/"
        },
        "id": "4ulXrDA2wFmF",
        "outputId": "906866e1-2082-4824-e87e-86193c9be94b"
      },
      "source": [
        "# with statsmodels\n",
        "X = sm.add_constant(X) # adding a constant\n",
        " \n",
        "model = sm.OLS(Y, X).fit()\n",
        "predictions = model.predict(X)\n",
        "print_model = model.summary()\n",
        "print(print_model)"
      ],
      "execution_count": null,
      "outputs": [
        {
          "output_type": "stream",
          "text": [
            "                                   OLS Regression Results                                   \n",
            "============================================================================================\n",
            "Dep. Variable:     Sum of Global Sales by Publisher   R-squared:                       0.735\n",
            "Model:                                          OLS   Adj. R-squared:                  0.734\n",
            "Method:                               Least Squares   F-statistic:                     801.0\n",
            "Date:                              Wed, 02 Jun 2021   Prob (F-statistic):          2.44e-167\n",
            "Time:                                      07:16:45   Log-Likelihood:                -915.55\n",
            "No. Observations:                               581   AIC:                             1837.\n",
            "Df Residuals:                                   578   BIC:                             1850.\n",
            "Df Model:                                         2                                         \n",
            "Covariance Type:                          nonrobust                                         \n",
            "====================================================================================================\n",
            "                                       coef    std err          t      P>|t|      [0.025      0.975]\n",
            "----------------------------------------------------------------------------------------------------\n",
            "const                               -2.6811      0.067    -40.254      0.000      -2.812      -2.550\n",
            "Number of Titles by Publisher        1.1361      0.061     18.575      0.000       1.016       1.256\n",
            "Number of Platforms by Publisher     0.0885      0.025      3.553      0.000       0.040       0.137\n",
            "==============================================================================\n",
            "Omnibus:                       28.697   Durbin-Watson:                   1.854\n",
            "Prob(Omnibus):                  0.000   Jarque-Bera (JB):               31.857\n",
            "Skew:                           0.571   Prob(JB):                     1.21e-07\n",
            "Kurtosis:                       3.099   Cond. No.                         7.71\n",
            "==============================================================================\n",
            "\n",
            "Warnings:\n",
            "[1] Standard Errors assume that the covariance matrix of the errors is correctly specified.\n"
          ],
          "name": "stdout"
        }
      ]
    }
  ]
}